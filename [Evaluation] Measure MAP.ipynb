{
 "cells": [
  {
   "cell_type": "code",
   "execution_count": 47,
   "metadata": {},
   "outputs": [],
   "source": [
    "import pandas as pd\n"
   ]
  },
  {
   "cell_type": "code",
   "execution_count": 56,
   "metadata": {},
   "outputs": [
    {
     "name": "stdout",
     "output_type": "stream",
     "text": [
      "HELLO\n"
     ]
    }
   ],
   "source": [
    "print(\"HELLO\")"
   ]
  },
  {
   "cell_type": "code",
   "execution_count": 60,
   "metadata": {},
   "outputs": [
    {
     "name": "stdout",
     "output_type": "stream",
     "text": [
      "AP    0.023109\n",
      "dtype: float64\n"
     ]
    }
   ],
   "source": [
    "file_name = \"matrix_factorise_v8_k75_ontest7000.csv\"\n",
    "\n",
    "test = pd.read_csv(\"./submission/%s\"%file_name)\n",
    "test[\"ans_project_id\"] = test[\"ans_project_id\"].apply(lambda x: [int(i) for i in eval(x)])\n",
    "test[\"project_id\"] = test[\"project_id\"].apply(lambda x: [int(i) for i in x.split(\" \")])\n",
    "\n",
    "test[\"AP\"] = test.apply(lambda x: score_AP(x[\"ans_project_id\"],x[\"project_id\"],7),axis=1)\n",
    "print(test.mean())"
   ]
  },
  {
   "cell_type": "code",
   "execution_count": 39,
   "metadata": {},
   "outputs": [],
   "source": [
    "def score_AP(correct, recommended, n=7):\n",
    "   # print(len(set(recommended)))\n",
    "    assert(len(set(recommended))==len(recommended)) # Recommended should be unique    \n",
    "    precisions = []\n",
    "    correct_score = 1\n",
    "    for idx, recommend_item in enumerate(recommended):\n",
    "        if recommend_item not in correct: precisions.append(0)\n",
    "        else:                         \n",
    "            precisions.append(correct_score/(idx+1))\n",
    "            correct_score+=1\n",
    "    return sum(precisions)/min(len(correct),n)\n",
    "#score_AP([\"5858\", \"5678\"],\"5678 5858 8058 8107 6527 9132 6446\",7)"
   ]
  },
  {
   "cell_type": "code",
   "execution_count": 46,
   "metadata": {},
   "outputs": [
    {
     "data": {
      "text/plain": [
       "AP    0.617054\n",
       "dtype: float64"
      ]
     },
     "execution_count": 46,
     "metadata": {},
     "output_type": "execute_result"
    }
   ],
   "source": [
    "#test[\"ans_project_id\"] = test[\"ans_project_id\"].apply(eval)\n",
    "test[\"AP\"] = test.apply(lambda x: score_AP(x[\"ans_project_id\"],x[\"project_id\"],7),axis=1)\n",
    "test.mean()"
   ]
  },
  {
   "cell_type": "code",
   "execution_count": 48,
   "metadata": {},
   "outputs": [
    {
     "name": "stdout",
     "output_type": "stream",
     "text": [
      "AP    0.617054\n",
      "dtype: float64\n",
      "AP    0.608034\n",
      "dtype: float64\n",
      "AP    0.618257\n",
      "dtype: float64\n",
      "AP    0.61797\n",
      "dtype: float64\n",
      "AP    0.622397\n",
      "dtype: float64\n"
     ]
    }
   ],
   "source": [
    "for i in range(5):\n",
    "    test = pd.read_csv(\"./submission/matrix_factorise_v5_k5000_ontest700_fold%d.csv\"%i)\n",
    "    test[\"ans_project_id\"] = test[\"ans_project_id\"].apply(lambda x: [int(i) for i in eval(x)])\n",
    "    test[\"project_id\"] = test[\"project_id\"].apply(lambda x: [int(i) for i in x.split(\" \")])\n",
    "\n",
    "    test[\"AP\"] = test.apply(lambda x: score_AP(x[\"ans_project_id\"],x[\"project_id\"],7),axis=1)\n",
    "    print(test.mean())"
   ]
  }
 ],
 "metadata": {
  "kernelspec": {
   "display_name": "Python 3",
   "language": "python",
   "name": "python3"
  },
  "language_info": {
   "codemirror_mode": {
    "name": "ipython",
    "version": 3
   },
   "file_extension": ".py",
   "mimetype": "text/x-python",
   "name": "python",
   "nbconvert_exporter": "python",
   "pygments_lexer": "ipython3",
   "version": "3.6.5"
  }
 },
 "nbformat": 4,
 "nbformat_minor": 2
}
