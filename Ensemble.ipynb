{
 "cells": [
  {
   "cell_type": "code",
   "execution_count": 2,
   "metadata": {},
   "outputs": [],
   "source": [
    "import pandas as pd\n",
    "\n",
    "v1 = pd.read_csv(\"./submission/item2vec_v1.csv\")\n",
    "v2 = pd.read_csv(\"./submission/item2vec_v2.csv\")\n",
    "v3 = pd.read_csv(\"./submission/item2vec_v3.csv\")"
   ]
  },
  {
   "cell_type": "code",
   "execution_count": 9,
   "metadata": {},
   "outputs": [
    {
     "data": {
      "text/html": [
       "<div>\n",
       "<style scoped>\n",
       "    .dataframe tbody tr th:only-of-type {\n",
       "        vertical-align: middle;\n",
       "    }\n",
       "\n",
       "    .dataframe tbody tr th {\n",
       "        vertical-align: top;\n",
       "    }\n",
       "\n",
       "    .dataframe thead th {\n",
       "        text-align: right;\n",
       "    }\n",
       "</style>\n",
       "<table border=\"1\" class=\"dataframe\">\n",
       "  <thead>\n",
       "    <tr style=\"text-align: right;\">\n",
       "      <th></th>\n",
       "      <th>userCode</th>\n",
       "      <th>project_id_x</th>\n",
       "      <th>project_id_y</th>\n",
       "      <th>project_id</th>\n",
       "    </tr>\n",
       "  </thead>\n",
       "  <tbody>\n",
       "    <tr>\n",
       "      <th>0</th>\n",
       "      <td>003366c6-0cd9-48e7-d134-2051d7360c2d</td>\n",
       "      <td>6734 6702 6714 6802 6587 8853 6666</td>\n",
       "      <td>6734 6702 6714 8853 6587 6666 5979</td>\n",
       "      <td>6734 6702 6714 5979 8853 6666 6387</td>\n",
       "    </tr>\n",
       "    <tr>\n",
       "      <th>1</th>\n",
       "      <td>003b2f18-60b4-37be-c63d-0caead1afa97</td>\n",
       "      <td>8089 6181 7825 4617 4615 7809 6499</td>\n",
       "      <td>6411 6181 7825 7809 5509 4617 3425</td>\n",
       "      <td>6411 3425 5509 6337 7809 4374 9036</td>\n",
       "    </tr>\n",
       "    <tr>\n",
       "      <th>2</th>\n",
       "      <td>003d571e-9de7-6de3-2cb6-2ae190cc7beb</td>\n",
       "      <td>8382 6725 6780 8882 6663 6646 6670</td>\n",
       "      <td>6780 8382 8820 6253 6729 6663 6691</td>\n",
       "      <td>6780 6691 6663 6253 8882 8382 6729</td>\n",
       "    </tr>\n",
       "    <tr>\n",
       "      <th>3</th>\n",
       "      <td>00426ede-6813-949b-de2e-6d8b228dff1d</td>\n",
       "      <td>8422 5483 4181 6278 3239 8384 2904</td>\n",
       "      <td>6278 8384 8422 5483 8374 8944 2904</td>\n",
       "      <td>8384 5483 8944 5281 8422 6278 8842</td>\n",
       "    </tr>\n",
       "    <tr>\n",
       "      <th>4</th>\n",
       "      <td>0043a9c7-cace-1aa1-3188-4b173bf28991</td>\n",
       "      <td>5466 6352 4800 998 8068 5668 4286</td>\n",
       "      <td>5466 6352 4800 8068 998 5668 4286</td>\n",
       "      <td>5466 6352 4800 8068 5668 998 4286</td>\n",
       "    </tr>\n",
       "  </tbody>\n",
       "</table>\n",
       "</div>"
      ],
      "text/plain": [
       "                               userCode                        project_id_x  \\\n",
       "0  003366c6-0cd9-48e7-d134-2051d7360c2d  6734 6702 6714 6802 6587 8853 6666   \n",
       "1  003b2f18-60b4-37be-c63d-0caead1afa97  8089 6181 7825 4617 4615 7809 6499   \n",
       "2  003d571e-9de7-6de3-2cb6-2ae190cc7beb  8382 6725 6780 8882 6663 6646 6670   \n",
       "3  00426ede-6813-949b-de2e-6d8b228dff1d  8422 5483 4181 6278 3239 8384 2904   \n",
       "4  0043a9c7-cace-1aa1-3188-4b173bf28991   5466 6352 4800 998 8068 5668 4286   \n",
       "\n",
       "                         project_id_y                          project_id  \n",
       "0  6734 6702 6714 8853 6587 6666 5979  6734 6702 6714 5979 8853 6666 6387  \n",
       "1  6411 6181 7825 7809 5509 4617 3425  6411 3425 5509 6337 7809 4374 9036  \n",
       "2  6780 8382 8820 6253 6729 6663 6691  6780 6691 6663 6253 8882 8382 6729  \n",
       "3  6278 8384 8422 5483 8374 8944 2904  8384 5483 8944 5281 8422 6278 8842  \n",
       "4   5466 6352 4800 8068 998 5668 4286   5466 6352 4800 8068 5668 998 4286  "
      ]
     },
     "execution_count": 9,
     "metadata": {},
     "output_type": "execute_result"
    }
   ],
   "source": [
    "v = v1.merge(v2,on='userCode').merge(v3,on='userCode')\n",
    "v.head()"
   ]
  },
  {
   "cell_type": "code",
   "execution_count": 12,
   "metadata": {},
   "outputs": [],
   "source": [
    "v = v1['project_id']+\" \"+v2['project_id']+\" \"+v3['project_id']"
   ]
  },
  {
   "cell_type": "code",
   "execution_count": 19,
   "metadata": {},
   "outputs": [],
   "source": [
    "from collections import Counter\n",
    "v1['project_id'] = v.apply(lambda x: \" \".join([str(proj) for proj,count in Counter(x.split(\" \")).most_common(7)]))"
   ]
  },
  {
   "cell_type": "code",
   "execution_count": 21,
   "metadata": {},
   "outputs": [],
   "source": [
    "v1.to_csv(\"./submission/item2vec_ensembled.csv\",index=False)"
   ]
  },
  {
   "cell_type": "code",
   "execution_count": 22,
   "metadata": {},
   "outputs": [
    {
     "data": {
      "text/html": [
       "<div>\n",
       "<style scoped>\n",
       "    .dataframe tbody tr th:only-of-type {\n",
       "        vertical-align: middle;\n",
       "    }\n",
       "\n",
       "    .dataframe tbody tr th {\n",
       "        vertical-align: top;\n",
       "    }\n",
       "\n",
       "    .dataframe thead th {\n",
       "        text-align: right;\n",
       "    }\n",
       "</style>\n",
       "<table border=\"1\" class=\"dataframe\">\n",
       "  <thead>\n",
       "    <tr style=\"text-align: right;\">\n",
       "      <th></th>\n",
       "      <th>userCode</th>\n",
       "      <th>project_id</th>\n",
       "    </tr>\n",
       "  </thead>\n",
       "  <tbody>\n",
       "    <tr>\n",
       "      <th>0</th>\n",
       "      <td>003366c6-0cd9-48e7-d134-2051d7360c2d</td>\n",
       "      <td>6734 6702 6714 8853 6666 6587 5979</td>\n",
       "    </tr>\n",
       "    <tr>\n",
       "      <th>1</th>\n",
       "      <td>003b2f18-60b4-37be-c63d-0caead1afa97</td>\n",
       "      <td>7809 6181 7825 4617 6411 5509 3425</td>\n",
       "    </tr>\n",
       "    <tr>\n",
       "      <th>2</th>\n",
       "      <td>003d571e-9de7-6de3-2cb6-2ae190cc7beb</td>\n",
       "      <td>8382 6780 6663 8882 6253 6729 6691</td>\n",
       "    </tr>\n",
       "    <tr>\n",
       "      <th>3</th>\n",
       "      <td>00426ede-6813-949b-de2e-6d8b228dff1d</td>\n",
       "      <td>8422 5483 6278 8384 2904 8944 4181</td>\n",
       "    </tr>\n",
       "    <tr>\n",
       "      <th>4</th>\n",
       "      <td>0043a9c7-cace-1aa1-3188-4b173bf28991</td>\n",
       "      <td>5466 6352 4800 998 8068 5668 4286</td>\n",
       "    </tr>\n",
       "  </tbody>\n",
       "</table>\n",
       "</div>"
      ],
      "text/plain": [
       "                               userCode                          project_id\n",
       "0  003366c6-0cd9-48e7-d134-2051d7360c2d  6734 6702 6714 8853 6666 6587 5979\n",
       "1  003b2f18-60b4-37be-c63d-0caead1afa97  7809 6181 7825 4617 6411 5509 3425\n",
       "2  003d571e-9de7-6de3-2cb6-2ae190cc7beb  8382 6780 6663 8882 6253 6729 6691\n",
       "3  00426ede-6813-949b-de2e-6d8b228dff1d  8422 5483 6278 8384 2904 8944 4181\n",
       "4  0043a9c7-cace-1aa1-3188-4b173bf28991   5466 6352 4800 998 8068 5668 4286"
      ]
     },
     "execution_count": 22,
     "metadata": {},
     "output_type": "execute_result"
    }
   ],
   "source": [
    "v1.head()"
   ]
  }
 ],
 "metadata": {
  "kernelspec": {
   "display_name": "Python 3",
   "language": "python",
   "name": "python3"
  },
  "language_info": {
   "codemirror_mode": {
    "name": "ipython",
    "version": 3
   },
   "file_extension": ".py",
   "mimetype": "text/x-python",
   "name": "python",
   "nbconvert_exporter": "python",
   "pygments_lexer": "ipython3",
   "version": "3.6.5"
  }
 },
 "nbformat": 4,
 "nbformat_minor": 2
}
