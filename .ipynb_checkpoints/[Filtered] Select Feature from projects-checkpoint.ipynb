{
 "cells": [
  {
   "cell_type": "code",
   "execution_count": 1,
   "metadata": {},
   "outputs": [],
   "source": [
    "import pandas as pd"
   ]
  },
  {
   "cell_type": "code",
   "execution_count": 39,
   "metadata": {},
   "outputs": [],
   "source": [
    "df = pd.read_csv(\"./clean_data/proj.csv\")"
   ]
  },
  {
   "cell_type": "code",
   "execution_count": 40,
   "metadata": {},
   "outputs": [],
   "source": [
    "# \n",
    "removing_cols = [\"percent_car_parking\",\"created_at\",]"
   ]
  },
  {
   "cell_type": "code",
   "execution_count": 41,
   "metadata": {},
   "outputs": [],
   "source": [
    "df.drop(columns=removing_cols,inplace = True)"
   ]
  },
  {
   "cell_type": "code",
   "execution_count": 42,
   "metadata": {},
   "outputs": [
    {
     "data": {
      "text/plain": [
       "Index(['project_id', 'developer_id', 'brand_id', 'district_id', 'province_id',\n",
       "       'lat', 'lon', 'starting_price', 'highest_price', 'project_status',\n",
       "       'project_land_size_m', 'Log_starting_price', 'starting_price_range',\n",
       "       'pool', 'clubhouse', 'park', 'fitness', 'security', 'playground',\n",
       "       'unit_type_id', 'amount_bedroom', 'amount_bathroom',\n",
       "       'amount_car_parking', 'unit_functional_space_starting_size', 'hasUnit',\n",
       "       'clickedCount', 'clicked_user', 'begin_clicked', 'end_clicked',\n",
       "       'clickedUser', 'mobile_count', 'desktop_count', 'window_count',\n",
       "       'android_count', 'iPhone_count', 'iPad_count', 'other_count',\n",
       "       'macintosh_count', 'beenClicked'],\n",
       "      dtype='object')"
      ]
     },
     "execution_count": 42,
     "metadata": {},
     "output_type": "execute_result"
    }
   ],
   "source": [
    "df.columns"
   ]
  },
  {
   "cell_type": "code",
   "execution_count": 55,
   "metadata": {},
   "outputs": [],
   "source": [
    "selecting_features = ['lat','lon','starting_price','highest_price','province_id','district_id','amount_bedroom', 'amount_bathroom','project_land_size_m','clickedCount','clickedUser']"
   ]
  },
  {
   "cell_type": "code",
   "execution_count": 53,
   "metadata": {},
   "outputs": [],
   "source": [
    "df = df[selecting_features]"
   ]
  },
  {
   "cell_type": "code",
   "execution_count": 46,
   "metadata": {},
   "outputs": [],
   "source": [
    "df['amount_bathroom'].fillna(method='ffill', inplace=True)\n",
    "df['amount_bedroom'].fillna(method='ffill', inplace=True)\n",
    "df['project_land_size_m'].fillna(method='ffill', inplace=True)"
   ]
  },
  {
   "cell_type": "code",
   "execution_count": 54,
   "metadata": {},
   "outputs": [
    {
     "data": {
      "text/html": [
       "<div>\n",
       "<style scoped>\n",
       "    .dataframe tbody tr th:only-of-type {\n",
       "        vertical-align: middle;\n",
       "    }\n",
       "\n",
       "    .dataframe tbody tr th {\n",
       "        vertical-align: top;\n",
       "    }\n",
       "\n",
       "    .dataframe thead th {\n",
       "        text-align: right;\n",
       "    }\n",
       "</style>\n",
       "<table border=\"1\" class=\"dataframe\">\n",
       "  <thead>\n",
       "    <tr style=\"text-align: right;\">\n",
       "      <th></th>\n",
       "      <th>lat</th>\n",
       "      <th>lon</th>\n",
       "      <th>Log_starting_price</th>\n",
       "      <th>province_id</th>\n",
       "      <th>district_id</th>\n",
       "      <th>amount_bedroom</th>\n",
       "      <th>amount_bathroom</th>\n",
       "      <th>project_land_size_m</th>\n",
       "      <th>clickedCount</th>\n",
       "      <th>clickedUser</th>\n",
       "    </tr>\n",
       "  </thead>\n",
       "  <tbody>\n",
       "    <tr>\n",
       "      <th>0</th>\n",
       "      <td>13.891719</td>\n",
       "      <td>100.722099</td>\n",
       "      <td>15.068274</td>\n",
       "      <td>10</td>\n",
       "      <td>1046.0</td>\n",
       "      <td>3.000000</td>\n",
       "      <td>2.25</td>\n",
       "      <td>43200</td>\n",
       "      <td>432.0</td>\n",
       "      <td>297.0</td>\n",
       "    </tr>\n",
       "    <tr>\n",
       "      <th>1</th>\n",
       "      <td>13.876590</td>\n",
       "      <td>100.731927</td>\n",
       "      <td>15.339391</td>\n",
       "      <td>10</td>\n",
       "      <td>1046.0</td>\n",
       "      <td>3.000000</td>\n",
       "      <td>2.25</td>\n",
       "      <td>123978</td>\n",
       "      <td>37.0</td>\n",
       "      <td>27.0</td>\n",
       "    </tr>\n",
       "    <tr>\n",
       "      <th>2</th>\n",
       "      <td>13.543841</td>\n",
       "      <td>100.656302</td>\n",
       "      <td>13.723834</td>\n",
       "      <td>11</td>\n",
       "      <td>1101.0</td>\n",
       "      <td>3.000000</td>\n",
       "      <td>2.25</td>\n",
       "      <td>0</td>\n",
       "      <td>1.0</td>\n",
       "      <td>1.0</td>\n",
       "    </tr>\n",
       "    <tr>\n",
       "      <th>3</th>\n",
       "      <td>13.975707</td>\n",
       "      <td>100.580670</td>\n",
       "      <td>15.150512</td>\n",
       "      <td>13</td>\n",
       "      <td>1301.0</td>\n",
       "      <td>3.000000</td>\n",
       "      <td>2.75</td>\n",
       "      <td>89634</td>\n",
       "      <td>223.0</td>\n",
       "      <td>154.0</td>\n",
       "    </tr>\n",
       "    <tr>\n",
       "      <th>4</th>\n",
       "      <td>13.716203</td>\n",
       "      <td>100.725815</td>\n",
       "      <td>15.424948</td>\n",
       "      <td>11</td>\n",
       "      <td>1103.0</td>\n",
       "      <td>3.285714</td>\n",
       "      <td>3.00</td>\n",
       "      <td>41258</td>\n",
       "      <td>290.0</td>\n",
       "      <td>190.0</td>\n",
       "    </tr>\n",
       "  </tbody>\n",
       "</table>\n",
       "</div>"
      ],
      "text/plain": [
       "         lat         lon  Log_starting_price  province_id  district_id  \\\n",
       "0  13.891719  100.722099           15.068274           10       1046.0   \n",
       "1  13.876590  100.731927           15.339391           10       1046.0   \n",
       "2  13.543841  100.656302           13.723834           11       1101.0   \n",
       "3  13.975707  100.580670           15.150512           13       1301.0   \n",
       "4  13.716203  100.725815           15.424948           11       1103.0   \n",
       "\n",
       "   amount_bedroom  amount_bathroom  project_land_size_m  clickedCount  \\\n",
       "0        3.000000             2.25                43200         432.0   \n",
       "1        3.000000             2.25               123978          37.0   \n",
       "2        3.000000             2.25                    0           1.0   \n",
       "3        3.000000             2.75                89634         223.0   \n",
       "4        3.285714             3.00                41258         290.0   \n",
       "\n",
       "   clickedUser  \n",
       "0        297.0  \n",
       "1         27.0  \n",
       "2          1.0  \n",
       "3        154.0  \n",
       "4        190.0  "
      ]
     },
     "execution_count": 54,
     "metadata": {},
     "output_type": "execute_result"
    }
   ],
   "source": [
    "df.head()"
   ]
  }
 ],
 "metadata": {
  "kernelspec": {
   "display_name": "Python 3",
   "language": "python",
   "name": "python3"
  },
  "language_info": {
   "codemirror_mode": {
    "name": "ipython",
    "version": 3
   },
   "file_extension": ".py",
   "mimetype": "text/x-python",
   "name": "python",
   "nbconvert_exporter": "python",
   "pygments_lexer": "ipython3",
   "version": "3.6.5"
  }
 },
 "nbformat": 4,
 "nbformat_minor": 2
}
