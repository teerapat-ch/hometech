{
 "cells": [
  {
   "cell_type": "code",
   "execution_count": 79,
   "metadata": {},
   "outputs": [],
   "source": [
    "import pandas as pd\n",
    "import datetime"
   ]
  },
  {
   "cell_type": "code",
   "execution_count": 80,
   "metadata": {},
   "outputs": [],
   "source": [
    "userLog = pd.read_csv(\"./clean_data/userlog_feature.csv\")"
   ]
  },
  {
   "cell_type": "code",
   "execution_count": 81,
   "metadata": {},
   "outputs": [],
   "source": [
    "userLog['datetime'] = pd.to_datetime(userLog['datetime'])\n",
    "isTrain = userLog['datetime']<datetime.datetime(2018,2,18)\n",
    "test = userLog[~isTrain]\n",
    "userLog = userLog[isTrain]\n"
   ]
  },
  {
   "cell_type": "code",
   "execution_count": null,
   "metadata": {},
   "outputs": [],
   "source": [
    "#testUserAnswerMerged.to_csv(\"./clean_data/_test_with_train.csv\")"
   ]
  },
  {
   "cell_type": "code",
   "execution_count": 82,
   "metadata": {},
   "outputs": [
    {
     "data": {
      "text/html": [
       "<div>\n",
       "<style scoped>\n",
       "    .dataframe tbody tr th:only-of-type {\n",
       "        vertical-align: middle;\n",
       "    }\n",
       "\n",
       "    .dataframe tbody tr th {\n",
       "        vertical-align: top;\n",
       "    }\n",
       "\n",
       "    .dataframe thead th {\n",
       "        text-align: right;\n",
       "    }\n",
       "</style>\n",
       "<table border=\"1\" class=\"dataframe\">\n",
       "  <thead>\n",
       "    <tr style=\"text-align: right;\">\n",
       "      <th></th>\n",
       "      <th>userCode</th>\n",
       "      <th>project_id</th>\n",
       "      <th>requestedDevice</th>\n",
       "      <th>userAgent</th>\n",
       "      <th>pageReferrer</th>\n",
       "      <th>year</th>\n",
       "      <th>month</th>\n",
       "      <th>day</th>\n",
       "      <th>hour</th>\n",
       "      <th>datetime</th>\n",
       "      <th>user_clicked_by_hour</th>\n",
       "      <th>user_clicked_projects_by_hour</th>\n",
       "    </tr>\n",
       "  </thead>\n",
       "  <tbody>\n",
       "    <tr>\n",
       "      <th>273392</th>\n",
       "      <td>e44b7ac9-0953-6c4e-7913-165a3d202054</td>\n",
       "      <td>8353</td>\n",
       "      <td>Mobile</td>\n",
       "      <td>iPhone</td>\n",
       "      <td>HomeWebsite</td>\n",
       "      <td>2018</td>\n",
       "      <td>1</td>\n",
       "      <td>14</td>\n",
       "      <td>18</td>\n",
       "      <td>2018-01-14 18:00:00</td>\n",
       "      <td>3</td>\n",
       "      <td>3</td>\n",
       "    </tr>\n",
       "  </tbody>\n",
       "</table>\n",
       "</div>"
      ],
      "text/plain": [
       "                                    userCode  project_id requestedDevice  \\\n",
       "273392  e44b7ac9-0953-6c4e-7913-165a3d202054        8353          Mobile   \n",
       "\n",
       "       userAgent pageReferrer  year  month  day  hour            datetime  \\\n",
       "273392    iPhone  HomeWebsite  2018      1   14    18 2018-01-14 18:00:00   \n",
       "\n",
       "        user_clicked_by_hour  user_clicked_projects_by_hour  \n",
       "273392                     3                              3  "
      ]
     },
     "execution_count": 82,
     "metadata": {},
     "output_type": "execute_result"
    }
   ],
   "source": [
    "userLog1 = userLog.sort_values(\"datetime\")\n",
    "userLog1.sample()"
   ]
  },
  {
   "cell_type": "code",
   "execution_count": 83,
   "metadata": {},
   "outputs": [],
   "source": [
    "userLog2VecDf = userLog1.groupby(\"userCode\").agg({\"project_id\":lambda x: list(x)})"
   ]
  },
  {
   "cell_type": "code",
   "execution_count": 84,
   "metadata": {},
   "outputs": [
    {
     "data": {
      "text/html": [
       "<div>\n",
       "<style scoped>\n",
       "    .dataframe tbody tr th:only-of-type {\n",
       "        vertical-align: middle;\n",
       "    }\n",
       "\n",
       "    .dataframe tbody tr th {\n",
       "        vertical-align: top;\n",
       "    }\n",
       "\n",
       "    .dataframe thead th {\n",
       "        text-align: right;\n",
       "    }\n",
       "</style>\n",
       "<table border=\"1\" class=\"dataframe\">\n",
       "  <thead>\n",
       "    <tr style=\"text-align: right;\">\n",
       "      <th></th>\n",
       "      <th>project_id</th>\n",
       "    </tr>\n",
       "    <tr>\n",
       "      <th>userCode</th>\n",
       "      <th></th>\n",
       "    </tr>\n",
       "  </thead>\n",
       "  <tbody>\n",
       "    <tr>\n",
       "      <th>d91e5972-70f2-5811-61b0-74682aae3439</th>\n",
       "      <td>[3809]</td>\n",
       "    </tr>\n",
       "    <tr>\n",
       "      <th>acc768c1-62c2-a6d1-30f5-14f936ce4b28</th>\n",
       "      <td>[1945]</td>\n",
       "    </tr>\n",
       "    <tr>\n",
       "      <th>0c7d3ffc-c12e-8924-b43e-db2884c536b0</th>\n",
       "      <td>[8910]</td>\n",
       "    </tr>\n",
       "    <tr>\n",
       "      <th>6c2a00e0-1317-5800-722c-8fda3e37b23c</th>\n",
       "      <td>[3297, 3297, 3297]</td>\n",
       "    </tr>\n",
       "    <tr>\n",
       "      <th>affb4599-bdf1-1a51-509a-4298c97b17d9</th>\n",
       "      <td>[3738]</td>\n",
       "    </tr>\n",
       "    <tr>\n",
       "      <th>709e7220-5208-4c39-87d1-4949e17ce2a8</th>\n",
       "      <td>[4381, 4381, 4381]</td>\n",
       "    </tr>\n",
       "    <tr>\n",
       "      <th>da349e79-e5fe-ce2f-8c36-d2f10717353d</th>\n",
       "      <td>[8935]</td>\n",
       "    </tr>\n",
       "    <tr>\n",
       "      <th>53fefdc8-8033-cfa7-0a5f-5a3c4b622d7b</th>\n",
       "      <td>[8112]</td>\n",
       "    </tr>\n",
       "    <tr>\n",
       "      <th>80790d8c-f3fd-25a6-7022-e634a716e968</th>\n",
       "      <td>[9373]</td>\n",
       "    </tr>\n",
       "    <tr>\n",
       "      <th>f32b7b06-1899-ca14-873a-9f3cec2d0af9</th>\n",
       "      <td>[5356]</td>\n",
       "    </tr>\n",
       "  </tbody>\n",
       "</table>\n",
       "</div>"
      ],
      "text/plain": [
       "                                              project_id\n",
       "userCode                                                \n",
       "d91e5972-70f2-5811-61b0-74682aae3439              [3809]\n",
       "acc768c1-62c2-a6d1-30f5-14f936ce4b28              [1945]\n",
       "0c7d3ffc-c12e-8924-b43e-db2884c536b0              [8910]\n",
       "6c2a00e0-1317-5800-722c-8fda3e37b23c  [3297, 3297, 3297]\n",
       "affb4599-bdf1-1a51-509a-4298c97b17d9              [3738]\n",
       "709e7220-5208-4c39-87d1-4949e17ce2a8  [4381, 4381, 4381]\n",
       "da349e79-e5fe-ce2f-8c36-d2f10717353d              [8935]\n",
       "53fefdc8-8033-cfa7-0a5f-5a3c4b622d7b              [8112]\n",
       "80790d8c-f3fd-25a6-7022-e634a716e968              [9373]\n",
       "f32b7b06-1899-ca14-873a-9f3cec2d0af9              [5356]"
      ]
     },
     "execution_count": 84,
     "metadata": {},
     "output_type": "execute_result"
    }
   ],
   "source": [
    "userLog2VecDf.sample(10)\n",
    "#userLog2VecDf.shape"
   ]
  },
  {
   "cell_type": "code",
   "execution_count": 85,
   "metadata": {},
   "outputs": [],
   "source": [
    "from gensim.models.doc2vec import Doc2Vec, TaggedDocument"
   ]
  },
  {
   "cell_type": "code",
   "execution_count": 98,
   "metadata": {},
   "outputs": [],
   "source": [
    "projIdxMap = pd.read_csv(\"./clean_data/proj2Idx.csv\")\n",
    "getProjIdx = lambda x: projIdxMap.query(\"project_id=='%s'\"%x)['projIdx'].values[0]"
   ]
  },
  {
   "cell_type": "code",
   "execution_count": 12,
   "metadata": {},
   "outputs": [],
   "source": [
    "moreThanOne = userLog2VecDf['project_id'].apply(len)>2\n",
    "projs = userLog2VecDf['project_id']#[moreThanOne]\n",
    "projs = [[str(p) for p in proj] for proj in projs]\n",
    "users = userLog2VecDf.index#[moreThanOne]\n"
   ]
  },
  {
   "cell_type": "code",
   "execution_count": 13,
   "metadata": {},
   "outputs": [],
   "source": [
    "documents = [TaggedDocument(proj, [user]) for i, (proj,user) in enumerate(zip(projs,users))]"
   ]
  },
  {
   "cell_type": "code",
   "execution_count": 14,
   "metadata": {},
   "outputs": [
    {
     "data": {
      "text/plain": [
       "[TaggedDocument(words=['5342'], tags=['00005aba-5ebc-0821-f5a9-bacca40be125']),\n",
       " TaggedDocument(words=['5678'], tags=['0000bae7-6233-d7cc-2a6d-48aa70fe8ad4']),\n",
       " TaggedDocument(words=['6461'], tags=['0000c576-e929-19eb-615a-349ec3b4709b']),\n",
       " TaggedDocument(words=['9040'], tags=['0000d196-6385-80b8-661d-b7427042daa3']),\n",
       " TaggedDocument(words=['6709', '6712'], tags=['0000e1e2-f595-0ae7-860f-fcc07dcb116e']),\n",
       " TaggedDocument(words=['8829', '4703', '6577', '4703', '8829', '4184'], tags=['0000fa46-1f0b-9504-b568-43479d17620e']),\n",
       " TaggedDocument(words=['6425'], tags=['00011133-6093-88a6-98b8-de44b88170f3']),\n",
       " TaggedDocument(words=['4210'], tags=['00011607-0514-1c6c-9e93-30aca362f7e6']),\n",
       " TaggedDocument(words=['8159'], tags=['00015aac-868d-57da-d68a-1ff71b598380']),\n",
       " TaggedDocument(words=['8587', '5985', '9095'], tags=['00019a11-0aaa-2559-4feb-534724830d3e'])]"
      ]
     },
     "execution_count": 14,
     "metadata": {},
     "output_type": "execute_result"
    }
   ],
   "source": [
    "documents[:10]"
   ]
  },
  {
   "cell_type": "markdown",
   "metadata": {},
   "source": [
    "### Train"
   ]
  },
  {
   "cell_type": "code",
   "execution_count": 15,
   "metadata": {},
   "outputs": [],
   "source": [
    "model = Doc2Vec(documents, vector_size=300, window=3, min_count=1, workers=4,epochs=4,sample=1e-4, negative=20)"
   ]
  },
  {
   "cell_type": "markdown",
   "metadata": {},
   "source": [
    "### Let's see if it works or not"
   ]
  },
  {
   "cell_type": "code",
   "execution_count": null,
   "metadata": {},
   "outputs": [],
   "source": [
    "# def recommendByVector(userId):\n",
    "#     try:\n",
    "#     #print(most_similar_user)\n",
    "#         seen = userLog2VecDf.loc[userId].project_id\n",
    "#         most_similar_user = model.docvecs.most_similar(userId,topn=100)\n",
    "#         recommending_projs = []\n",
    "#         for user, similarity in most_similar_user:\n",
    "#             friend_projects = [i for i in userLog2VecDf.loc[user].project_id if i not in seen]\n",
    "#             recommending_projs.extend(friend_projects)\n",
    "#             recommending_projs = list(set(recommending_projs))\n",
    "#             if len(recommending_projs)>=7: break\n",
    "\n",
    "#         #     print(userLog2VecDf.loc[user].project_id, similarity)\n",
    "\n",
    "#         return \" \".join([str(i) for i in recommending_projs])\n",
    "#     except:\n",
    "#         return \"5858 3738 4201 5452 5678 5764 5067\"\n",
    "    \n",
    "# recommendByVector(\"0018fd5f-213f-c9ab-ebf4-0dcfb63be43b\")"
   ]
  },
  {
   "cell_type": "code",
   "execution_count": 60,
   "metadata": {},
   "outputs": [
    {
     "name": "stderr",
     "output_type": "stream",
     "text": [
      "/home/users/u5722792744_1/miniconda3/lib/python3.6/site-packages/gensim/matutils.py:737: FutureWarning: Conversion of the second argument of issubdtype from `int` to `np.signedinteger` is deprecated. In future, it will be treated as `np.int64 == np.dtype(int).type`.\n",
      "  if np.issubdtype(vec.dtype, np.int):\n"
     ]
    },
    {
     "data": {
      "text/plain": [
       "'6161 6172 8112 4627 7694 2028 6405'"
      ]
     },
     "execution_count": 60,
     "metadata": {},
     "output_type": "execute_result"
    }
   ],
   "source": [
    "all_project = model.wv.vocab\n",
    "def recommendByProjects(userId, userLog=userLog2VecDf,topn = 7):\n",
    "    seen = userLog.loc[userId].project_id\n",
    "    \n",
    "    seen = [str(i) for i in seen if str(i) in all_project]\n",
    "    if len(seen) ==0: return \"5858 3738 4201 5452 5678 5764 5067\"\n",
    "    most_similar_proj = model.wv.most_similar(positive=seen,topn=100)\n",
    "    recommending_projs = []\n",
    "    for proj, similarity in most_similar_proj:\n",
    "        if proj not in seen: recommending_projs.append(proj)\n",
    "        if len(recommending_projs)>=topn: break\n",
    "\n",
    "    #     print(userLog.loc[user].project_id, similarity)\n",
    "\n",
    "    return \" \".join([str(i) for i in recommending_projs])\n",
    "\n",
    "recommendByProjects(\"0018fd5f-213f-c9ab-ebf4-0dcfb63be43b\")"
   ]
  },
  {
   "cell_type": "code",
   "execution_count": 36,
   "metadata": {},
   "outputs": [],
   "source": [
    "testUserAnswer = test.groupby(\"userCode\").agg({\"project_id\":lambda x: list(x)})\n",
    "testUserAnswer.columns = [\"ans_project_list\"]\n",
    "testUserAnswerMerged = userLog2VecDf.merge(testUserAnswer,on='userCode',right_index=True)"
   ]
  },
  {
   "cell_type": "code",
   "execution_count": 40,
   "metadata": {},
   "outputs": [
    {
     "name": "stderr",
     "output_type": "stream",
     "text": [
      "/home/users/u5722792744_1/miniconda3/lib/python3.6/site-packages/gensim/matutils.py:737: FutureWarning: Conversion of the second argument of issubdtype from `int` to `np.signedinteger` is deprecated. In future, it will be treated as `np.int64 == np.dtype(int).type`.\n",
      "  if np.issubdtype(vec.dtype, np.int):\n"
     ]
    },
    {
     "name": "stdout",
     "output_type": "stream",
     "text": [
      "MAP@7 0.028017888195096482\n"
     ]
    }
   ],
   "source": [
    "testing = testUserAnswerMerged.reset_index()\n",
    "ans = testing['userCode'].apply(recommendByProjects)\n",
    "testing['preds'] = ans\n",
    "testing['ans_project'] = testing['ans_project_list'].apply(lambda x: list(set(x)))\n",
    "testing['MAP'] = testing.apply(lambda x: score_AP(x['ans_project'],x['preds']),axis=1)\n",
    "print(\"MAP@7\",testing['MAP'].mean())#0.0296277 by 4 epochs 300dim"
   ]
  },
  {
   "cell_type": "code",
   "execution_count": 75,
   "metadata": {},
   "outputs": [
    {
     "name": "stderr",
     "output_type": "stream",
     "text": [
      "/home/users/u5722792744_1/miniconda3/lib/python3.6/site-packages/gensim/matutils.py:737: FutureWarning: Conversion of the second argument of issubdtype from `int` to `np.signedinteger` is deprecated. In future, it will be treated as `np.int64 == np.dtype(int).type`.\n",
      "  if np.issubdtype(vec.dtype, np.int):\n"
     ]
    },
    {
     "name": "stdout",
     "output_type": "stream",
     "text": [
      "0.04318023080660835\n",
      "0.042492463556851316\n",
      "0.04292921282798833\n",
      "0.04283192743764172\n",
      "0.04328287495950761\n"
     ]
    }
   ],
   "source": [
    "scores = []\n",
    "for i in range(5):\n",
    "    testing_users = pd.read_csv(\"./clean_data/test_data/test_before_021718_7000row_fold{}.csv\".format(i))\n",
    "    testing_users.head()\n",
    "\n",
    "    testing_users['project_id'] = testing_users['userCode'].apply(recommendByProjects)\n",
    "    testing_users['ans_project_id'] = testing_users['ans_project_id'].apply(eval)\n",
    "    #testing_users['ans_project'] = testing_users['ans_project_id'].apply(lambda x: list(set(x)))\n",
    "    testing_users['MAP'] = testing_users.apply(lambda x: score_AP(x['ans_project_id'],x['project_id']),axis=1)\n",
    "    score = testing_users['MAP'].mean()\n",
    "    print(score)\n",
    "    scores.append(score)"
   ]
  },
  {
   "cell_type": "code",
   "execution_count": 51,
   "metadata": {},
   "outputs": [
    {
     "name": "stderr",
     "output_type": "stream",
     "text": [
      "/home/users/u5722792744_1/miniconda3/lib/python3.6/site-packages/gensim/matutils.py:737: FutureWarning: Conversion of the second argument of issubdtype from `int` to `np.signedinteger` is deprecated. In future, it will be treated as `np.int64 == np.dtype(int).type`.\n",
      "  if np.issubdtype(vec.dtype, np.int):\n"
     ]
    },
    {
     "data": {
      "text/plain": [
       "0.04318023080660835"
      ]
     },
     "execution_count": 51,
     "metadata": {},
     "output_type": "execute_result"
    }
   ],
   "source": [
    "#testing_users = pd.read_csv(\"./data/testing_users.csv\")\n",
    "#testing_users = pd.read_csv(\"./data/200_users.csv\")\n",
    "testing_users = pd.read_csv(\"./clean_data/test_data/test_before_021718_7000row_fold0.csv\")\n",
    "testing_users.head()\n",
    "\n",
    "testing_users['project_id'] = testing_users['userCode'].apply(recommendByProjects)\n",
    "testing_users['ans_project_id'] = testing_users['ans_project_id'].apply(eval)\n",
    "#testing_users['ans_project'] = testing_users['ans_project_id'].apply(lambda x: list(set(x)))\n",
    "testing_users['MAP'] = testing_users.apply(lambda x: score_AP(x['ans_project_id'],x['project_id']),axis=1)\n",
    "testing_users['MAP'].mean()"
   ]
  },
  {
   "cell_type": "code",
   "execution_count": null,
   "metadata": {},
   "outputs": [],
   "source": [
    "print(\"Accuracy: \",testing['MAP'].apply(lambda x: x>0).sum()/testing.shape[0])"
   ]
  },
  {
   "cell_type": "code",
   "execution_count": 39,
   "metadata": {},
   "outputs": [],
   "source": [
    "def score_AP(correct, recommended, n=7):\n",
    "    recommended = recommended.split(\" \")\n",
    "    assert(len(set(recommended))==len(recommended)) # Recommended should be unique    \n",
    "    precisions = []\n",
    "    correct_score = 1\n",
    "    for idx, recommend_item in enumerate(recommended):\n",
    "        try:\n",
    "            if int(recommend_item) not in correct: precisions.append(0)\n",
    "            else:                         \n",
    "                precisions.append(correct_score/(idx+1))\n",
    "                correct_score+=1\n",
    "        except:\n",
    "            print(recommend_item)\n",
    "    return sum(precisions)/min(len(correct),n)\n",
    "#score_AP([\"5858\", \"5678\"],\"5678 5858 8058 8107 6527 9132 6446\",7)"
   ]
  },
  {
   "cell_type": "code",
   "execution_count": null,
   "metadata": {},
   "outputs": [],
   "source": [
    "testing.head().apply(lambda x: score_AP(x['ans_project_list'],x['preds']),axis=1)"
   ]
  },
  {
   "cell_type": "code",
   "execution_count": null,
   "metadata": {},
   "outputs": [],
   "source": []
  },
  {
   "cell_type": "code",
   "execution_count": 55,
   "metadata": {},
   "outputs": [],
   "source": [
    "submission_user = pd.read_csv(\"./data/testing_users.csv\")\n",
    "userLogForSubmit = pd.read_csv(\"./clean_data/userlog_feature.csv\")\n",
    "userLogNewest = userLogForSubmit.groupby(\"userCode\").agg({\"project_id\":lambda x: list(x)})"
   ]
  },
  {
   "cell_type": "code",
   "execution_count": 70,
   "metadata": {},
   "outputs": [
    {
     "name": "stderr",
     "output_type": "stream",
     "text": [
      "/home/users/u5722792744_1/miniconda3/lib/python3.6/site-packages/gensim/matutils.py:737: FutureWarning: Conversion of the second argument of issubdtype from `int` to `np.signedinteger` is deprecated. In future, it will be treated as `np.int64 == np.dtype(int).type`.\n",
      "  if np.issubdtype(vec.dtype, np.int):\n"
     ]
    }
   ],
   "source": [
    "submission_user['project_id'] = submission_user['userCode'].apply(lambda x: recommendByProjects(x,userLogNewest))"
   ]
  },
  {
   "cell_type": "code",
   "execution_count": 71,
   "metadata": {},
   "outputs": [
    {
     "data": {
      "text/html": [
       "<div>\n",
       "<style scoped>\n",
       "    .dataframe tbody tr th:only-of-type {\n",
       "        vertical-align: middle;\n",
       "    }\n",
       "\n",
       "    .dataframe tbody tr th {\n",
       "        vertical-align: top;\n",
       "    }\n",
       "\n",
       "    .dataframe thead th {\n",
       "        text-align: right;\n",
       "    }\n",
       "</style>\n",
       "<table border=\"1\" class=\"dataframe\">\n",
       "  <thead>\n",
       "    <tr style=\"text-align: right;\">\n",
       "      <th></th>\n",
       "      <th>userCode</th>\n",
       "      <th>project_id</th>\n",
       "    </tr>\n",
       "  </thead>\n",
       "  <tbody>\n",
       "    <tr>\n",
       "      <th>0</th>\n",
       "      <td>003366c6-0cd9-48e7-d134-2051d7360c2d</td>\n",
       "      <td>6734 6702 6714 6802 6587 8853 6666</td>\n",
       "    </tr>\n",
       "    <tr>\n",
       "      <th>1</th>\n",
       "      <td>003b2f18-60b4-37be-c63d-0caead1afa97</td>\n",
       "      <td>8089 6181 7825 4617 4615 7809 6499</td>\n",
       "    </tr>\n",
       "    <tr>\n",
       "      <th>2</th>\n",
       "      <td>003d571e-9de7-6de3-2cb6-2ae190cc7beb</td>\n",
       "      <td>8382 6725 6780 8882 6663 6646 6670</td>\n",
       "    </tr>\n",
       "    <tr>\n",
       "      <th>3</th>\n",
       "      <td>00426ede-6813-949b-de2e-6d8b228dff1d</td>\n",
       "      <td>8422 5483 4181 6278 3239 8384 2904</td>\n",
       "    </tr>\n",
       "    <tr>\n",
       "      <th>4</th>\n",
       "      <td>0043a9c7-cace-1aa1-3188-4b173bf28991</td>\n",
       "      <td>5466 6352 4800 998 8068 5668 4286</td>\n",
       "    </tr>\n",
       "  </tbody>\n",
       "</table>\n",
       "</div>"
      ],
      "text/plain": [
       "                               userCode                          project_id\n",
       "0  003366c6-0cd9-48e7-d134-2051d7360c2d  6734 6702 6714 6802 6587 8853 6666\n",
       "1  003b2f18-60b4-37be-c63d-0caead1afa97  8089 6181 7825 4617 4615 7809 6499\n",
       "2  003d571e-9de7-6de3-2cb6-2ae190cc7beb  8382 6725 6780 8882 6663 6646 6670\n",
       "3  00426ede-6813-949b-de2e-6d8b228dff1d  8422 5483 4181 6278 3239 8384 2904\n",
       "4  0043a9c7-cace-1aa1-3188-4b173bf28991   5466 6352 4800 998 8068 5668 4286"
      ]
     },
     "execution_count": 71,
     "metadata": {},
     "output_type": "execute_result"
    }
   ],
   "source": [
    "submission_user.head()"
   ]
  },
  {
   "cell_type": "code",
   "execution_count": 74,
   "metadata": {},
   "outputs": [],
   "source": [
    "submission_user.to_csv(\"./submission/item2vec_v1.csv\",index=False)"
   ]
  },
  {
   "cell_type": "code",
   "execution_count": 77,
   "metadata": {},
   "outputs": [],
   "source": [
    "model.save(\"./model/doc2vec_before_train.wv\")"
   ]
  }
 ],
 "metadata": {
  "kernelspec": {
   "display_name": "Python 3",
   "language": "python",
   "name": "python3"
  },
  "language_info": {
   "codemirror_mode": {
    "name": "ipython",
    "version": 3
   },
   "file_extension": ".py",
   "mimetype": "text/x-python",
   "name": "python",
   "nbconvert_exporter": "python",
   "pygments_lexer": "ipython3",
   "version": "3.6.5"
  }
 },
 "nbformat": 4,
 "nbformat_minor": 2
}
