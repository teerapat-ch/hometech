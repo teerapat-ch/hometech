{
 "cells": [
  {
   "cell_type": "code",
   "execution_count": 54,
   "metadata": {},
   "outputs": [
    {
     "data": {
      "text/html": [
       "<div>\n",
       "<style scoped>\n",
       "    .dataframe tbody tr th:only-of-type {\n",
       "        vertical-align: middle;\n",
       "    }\n",
       "\n",
       "    .dataframe tbody tr th {\n",
       "        vertical-align: top;\n",
       "    }\n",
       "\n",
       "    .dataframe thead th {\n",
       "        text-align: right;\n",
       "    }\n",
       "</style>\n",
       "<table border=\"1\" class=\"dataframe\">\n",
       "  <thead>\n",
       "    <tr style=\"text-align: right;\">\n",
       "      <th></th>\n",
       "      <th>userCode</th>\n",
       "      <th>project_id</th>\n",
       "      <th>requestedDevice</th>\n",
       "      <th>userAgent</th>\n",
       "      <th>pageReferrer</th>\n",
       "      <th>datetime</th>\n",
       "    </tr>\n",
       "  </thead>\n",
       "  <tbody>\n",
       "    <tr>\n",
       "      <th>0</th>\n",
       "      <td>7717bdc2-ea3e-e8ad-5d6b-178bd71c38b2</td>\n",
       "      <td>7956</td>\n",
       "      <td>Mobile</td>\n",
       "      <td>Android</td>\n",
       "      <td>HomeWebsite</td>\n",
       "      <td>2018-01-01</td>\n",
       "    </tr>\n",
       "    <tr>\n",
       "      <th>1</th>\n",
       "      <td>7717bdc2-ea3e-e8ad-5d6b-178bd71c38b2</td>\n",
       "      <td>7956</td>\n",
       "      <td>Mobile</td>\n",
       "      <td>Android</td>\n",
       "      <td>HomeWebsite</td>\n",
       "      <td>2018-01-01</td>\n",
       "    </tr>\n",
       "    <tr>\n",
       "      <th>2</th>\n",
       "      <td>cb5b4b68-cc01-6db6-f54b-4a0f881301c5</td>\n",
       "      <td>5067</td>\n",
       "      <td>Mobile</td>\n",
       "      <td>iPhone</td>\n",
       "      <td>HomeWebsite</td>\n",
       "      <td>2018-01-01</td>\n",
       "    </tr>\n",
       "    <tr>\n",
       "      <th>3</th>\n",
       "      <td>5f74cef2-0d1e-b619-3564-0955a14e0985</td>\n",
       "      <td>6654</td>\n",
       "      <td>Mobile</td>\n",
       "      <td>iPhone</td>\n",
       "      <td>Google</td>\n",
       "      <td>2018-01-01</td>\n",
       "    </tr>\n",
       "    <tr>\n",
       "      <th>4</th>\n",
       "      <td>dba8f279-844e-eef6-73ac-22bd7d1353cc</td>\n",
       "      <td>6474</td>\n",
       "      <td>Mobile</td>\n",
       "      <td>iPad</td>\n",
       "      <td>Google</td>\n",
       "      <td>2018-01-01</td>\n",
       "    </tr>\n",
       "  </tbody>\n",
       "</table>\n",
       "</div>"
      ],
      "text/plain": [
       "                               userCode  project_id requestedDevice userAgent  \\\n",
       "0  7717bdc2-ea3e-e8ad-5d6b-178bd71c38b2        7956          Mobile   Android   \n",
       "1  7717bdc2-ea3e-e8ad-5d6b-178bd71c38b2        7956          Mobile   Android   \n",
       "2  cb5b4b68-cc01-6db6-f54b-4a0f881301c5        5067          Mobile    iPhone   \n",
       "3  5f74cef2-0d1e-b619-3564-0955a14e0985        6654          Mobile    iPhone   \n",
       "4  dba8f279-844e-eef6-73ac-22bd7d1353cc        6474          Mobile      iPad   \n",
       "\n",
       "  pageReferrer   datetime  \n",
       "0  HomeWebsite 2018-01-01  \n",
       "1  HomeWebsite 2018-01-01  \n",
       "2  HomeWebsite 2018-01-01  \n",
       "3       Google 2018-01-01  \n",
       "4       Google 2018-01-01  "
      ]
     },
     "execution_count": 54,
     "metadata": {},
     "output_type": "execute_result"
    }
   ],
   "source": [
    "import pandas as pd\n",
    "from datetime import datetime\n",
    "\n",
    "\n",
    "answer = pd.read_csv(\"./data/200_users.csv\")\n",
    "user = pd.read_csv(\"./data/userLog_201801_201802_for_participants.csv\",sep=';')\n",
    "\n",
    "user['datetime'] = user['year'].astype(str)+\"-\" + user['month'].astype(str) +\"-\" +user['day'].astype(str)+\" \"+user['hour'].astype(str)+\":00:00\"\n",
    "user['datetime'] = pd.to_datetime(user['datetime'])\n",
    "\n",
    "del user['year']\n",
    "del user['month']\n",
    "del user['day']\n",
    "del user['hour']\n",
    "\n",
    "user.head()"
   ]
  },
  {
   "cell_type": "code",
   "execution_count": 2,
   "metadata": {},
   "outputs": [],
   "source": [
    "# Cut to train and test"
   ]
  },
  {
   "cell_type": "code",
   "execution_count": 55,
   "metadata": {},
   "outputs": [],
   "source": [
    "inTrain = user['datetime']<datetime(2018,2,18)\n",
    "train = user[inTrain]\n",
    "test = user[~inTrain]"
   ]
  },
  {
   "cell_type": "code",
   "execution_count": 96,
   "metadata": {},
   "outputs": [],
   "source": [
    "train.to_csv(\"./clean_data/userLog_beforeTest.csv\",index=False)"
   ]
  },
  {
   "cell_type": "code",
   "execution_count": 43,
   "metadata": {},
   "outputs": [
    {
     "name": "stdout",
     "output_type": "stream",
     "text": [
      "(50185, 1)\n"
     ]
    },
    {
     "data": {
      "text/html": [
       "<div>\n",
       "<style scoped>\n",
       "    .dataframe tbody tr th:only-of-type {\n",
       "        vertical-align: middle;\n",
       "    }\n",
       "\n",
       "    .dataframe tbody tr th {\n",
       "        vertical-align: top;\n",
       "    }\n",
       "\n",
       "    .dataframe thead th {\n",
       "        text-align: right;\n",
       "    }\n",
       "</style>\n",
       "<table border=\"1\" class=\"dataframe\">\n",
       "  <thead>\n",
       "    <tr style=\"text-align: right;\">\n",
       "      <th></th>\n",
       "      <th>project_id</th>\n",
       "    </tr>\n",
       "    <tr>\n",
       "      <th>userCode</th>\n",
       "      <th></th>\n",
       "    </tr>\n",
       "  </thead>\n",
       "  <tbody>\n",
       "    <tr>\n",
       "      <th>00022f32-f2c8-4ac0-4f5c-79007d18468c</th>\n",
       "      <td>{5817}</td>\n",
       "    </tr>\n",
       "    <tr>\n",
       "      <th>00023eed-55ce-8642-3e27-9bcaf777bddb</th>\n",
       "      <td>{3604}</td>\n",
       "    </tr>\n",
       "    <tr>\n",
       "      <th>0009ecb5-23d3-d9d5-16fd-6d9b39465d87</th>\n",
       "      <td>{1905}</td>\n",
       "    </tr>\n",
       "    <tr>\n",
       "      <th>000a0872-72e2-b1b9-bfe3-3b9e173c516b</th>\n",
       "      <td>{9353, 8858, 8718, 6457}</td>\n",
       "    </tr>\n",
       "    <tr>\n",
       "      <th>000b00a0-8fc3-1677-c405-a8389b484979</th>\n",
       "      <td>{5858, 5323}</td>\n",
       "    </tr>\n",
       "  </tbody>\n",
       "</table>\n",
       "</div>"
      ],
      "text/plain": [
       "                                                    project_id\n",
       "userCode                                                      \n",
       "00022f32-f2c8-4ac0-4f5c-79007d18468c                    {5817}\n",
       "00023eed-55ce-8642-3e27-9bcaf777bddb                    {3604}\n",
       "0009ecb5-23d3-d9d5-16fd-6d9b39465d87                    {1905}\n",
       "000a0872-72e2-b1b9-bfe3-3b9e173c516b  {9353, 8858, 8718, 6457}\n",
       "000b00a0-8fc3-1677-c405-a8389b484979              {5858, 5323}"
      ]
     },
     "execution_count": 43,
     "metadata": {},
     "output_type": "execute_result"
    }
   ],
   "source": [
    "test_df = test.groupby(\"userCode\").agg({\"project_id\":lambda x: set(x)})\n",
    "print(test_df.shape)\n",
    "test_df.head()"
   ]
  },
  {
   "cell_type": "code",
   "execution_count": 56,
   "metadata": {},
   "outputs": [
    {
     "data": {
      "text/html": [
       "<div>\n",
       "<style scoped>\n",
       "    .dataframe tbody tr th:only-of-type {\n",
       "        vertical-align: middle;\n",
       "    }\n",
       "\n",
       "    .dataframe tbody tr th {\n",
       "        vertical-align: top;\n",
       "    }\n",
       "\n",
       "    .dataframe thead th {\n",
       "        text-align: right;\n",
       "    }\n",
       "</style>\n",
       "<table border=\"1\" class=\"dataframe\">\n",
       "  <thead>\n",
       "    <tr style=\"text-align: right;\">\n",
       "      <th></th>\n",
       "      <th>project_id</th>\n",
       "    </tr>\n",
       "    <tr>\n",
       "      <th>userCode</th>\n",
       "      <th></th>\n",
       "    </tr>\n",
       "  </thead>\n",
       "  <tbody>\n",
       "    <tr>\n",
       "      <th>00005aba-5ebc-0821-f5a9-bacca40be125</th>\n",
       "      <td>{5342}</td>\n",
       "    </tr>\n",
       "    <tr>\n",
       "      <th>0000bae7-6233-d7cc-2a6d-48aa70fe8ad4</th>\n",
       "      <td>{5678}</td>\n",
       "    </tr>\n",
       "    <tr>\n",
       "      <th>0000c576-e929-19eb-615a-349ec3b4709b</th>\n",
       "      <td>{6461}</td>\n",
       "    </tr>\n",
       "    <tr>\n",
       "      <th>0000d196-6385-80b8-661d-b7427042daa3</th>\n",
       "      <td>{9040}</td>\n",
       "    </tr>\n",
       "    <tr>\n",
       "      <th>0000e1e2-f595-0ae7-860f-fcc07dcb116e</th>\n",
       "      <td>{6712, 6709}</td>\n",
       "    </tr>\n",
       "  </tbody>\n",
       "</table>\n",
       "</div>"
      ],
      "text/plain": [
       "                                        project_id\n",
       "userCode                                          \n",
       "00005aba-5ebc-0821-f5a9-bacca40be125        {5342}\n",
       "0000bae7-6233-d7cc-2a6d-48aa70fe8ad4        {5678}\n",
       "0000c576-e929-19eb-615a-349ec3b4709b        {6461}\n",
       "0000d196-6385-80b8-661d-b7427042daa3        {9040}\n",
       "0000e1e2-f595-0ae7-860f-fcc07dcb116e  {6712, 6709}"
      ]
     },
     "execution_count": 56,
     "metadata": {},
     "output_type": "execute_result"
    }
   ],
   "source": [
    "train_df = train.groupby(\"userCode\").agg({\"project_id\":lambda x: set(x)})\n",
    "train_df.head()"
   ]
  },
  {
   "cell_type": "code",
   "execution_count": 59,
   "metadata": {},
   "outputs": [
    {
     "data": {
      "text/html": [
       "<div>\n",
       "<style scoped>\n",
       "    .dataframe tbody tr th:only-of-type {\n",
       "        vertical-align: middle;\n",
       "    }\n",
       "\n",
       "    .dataframe tbody tr th {\n",
       "        vertical-align: top;\n",
       "    }\n",
       "\n",
       "    .dataframe thead th {\n",
       "        text-align: right;\n",
       "    }\n",
       "</style>\n",
       "<table border=\"1\" class=\"dataframe\">\n",
       "  <thead>\n",
       "    <tr style=\"text-align: right;\">\n",
       "      <th></th>\n",
       "      <th>project_idtest</th>\n",
       "      <th>project_idtrain</th>\n",
       "    </tr>\n",
       "    <tr>\n",
       "      <th>userCode</th>\n",
       "      <th></th>\n",
       "      <th></th>\n",
       "    </tr>\n",
       "  </thead>\n",
       "  <tbody>\n",
       "    <tr>\n",
       "      <th>0015e266-4175-bd2b-f3c2-945e61ad0cb6</th>\n",
       "      <td>{6494}</td>\n",
       "      <td>{9394}</td>\n",
       "    </tr>\n",
       "    <tr>\n",
       "      <th>00173c21-1f39-3a33-8ceb-2cb27f83c7b7</th>\n",
       "      <td>{8000}</td>\n",
       "      <td>{4791}</td>\n",
       "    </tr>\n",
       "    <tr>\n",
       "      <th>0018fd5f-213f-c9ab-ebf4-0dcfb63be43b</th>\n",
       "      <td>{4201}</td>\n",
       "      <td>{8717, 8748, 5404}</td>\n",
       "    </tr>\n",
       "    <tr>\n",
       "      <th>001efb31-8833-bb1a-b2b3-8e3af720e7f7</th>\n",
       "      <td>{234, 2093}</td>\n",
       "      <td>{234, 4279}</td>\n",
       "    </tr>\n",
       "    <tr>\n",
       "      <th>00341e5d-00aa-9053-2ec6-859a7171abb6</th>\n",
       "      <td>{4579}</td>\n",
       "      <td>{5010}</td>\n",
       "    </tr>\n",
       "  </tbody>\n",
       "</table>\n",
       "</div>"
      ],
      "text/plain": [
       "                                     project_idtest     project_idtrain\n",
       "userCode                                                               \n",
       "0015e266-4175-bd2b-f3c2-945e61ad0cb6         {6494}              {9394}\n",
       "00173c21-1f39-3a33-8ceb-2cb27f83c7b7         {8000}              {4791}\n",
       "0018fd5f-213f-c9ab-ebf4-0dcfb63be43b         {4201}  {8717, 8748, 5404}\n",
       "001efb31-8833-bb1a-b2b3-8e3af720e7f7    {234, 2093}         {234, 4279}\n",
       "00341e5d-00aa-9053-2ec6-859a7171abb6         {4579}              {5010}"
      ]
     },
     "execution_count": 59,
     "metadata": {},
     "output_type": "execute_result"
    }
   ],
   "source": [
    "test_df_merged = test_df.merge(train_df,left_index=True,right_index=True,suffixes=(\"test\",\"train\"))\n",
    "test_df_merged.head()"
   ]
  },
  {
   "cell_type": "code",
   "execution_count": 63,
   "metadata": {},
   "outputs": [],
   "source": [
    "test_df_selected = test_df_merged['project_idtest']- test_df_merged['project_idtrain']\n",
    "test_df_selected = test_df_selected.reset_index()[test_df_selected.reset_index()[0].apply(lambda x: len(x)>0)]"
   ]
  },
  {
   "cell_type": "code",
   "execution_count": 89,
   "metadata": {},
   "outputs": [],
   "source": [
    "\n",
    "test_df_sampled = test_df_selected.sample(700)\n",
    "test_df_sampled = test_df_sampled.rename(columns = {0:\"ans_project_id\"})\n",
    "test_df_sampled['ans_project_id'] = test_df_sampled['ans_project_id'].apply(lambda x: list(x))"
   ]
  },
  {
   "cell_type": "code",
   "execution_count": 94,
   "metadata": {},
   "outputs": [],
   "source": [
    "# Do many folds: \n",
    "for i in range(5):\n",
    "    test_df_sampled = test_df_selected.sample(7000)\n",
    "    test_df_sampled = test_df_sampled.rename(columns = {0:\"ans_project_id\"})\n",
    "    test_df_sampled['ans_project_id'] = test_df_sampled['ans_project_id'].apply(lambda x: list(x))\n",
    "\n",
    "    test_df_sampled.to_csv(\"./clean_data/test_data/test_before_021718_7000row_fold%d.csv\"%i,index=False)"
   ]
  },
  {
   "cell_type": "code",
   "execution_count": 91,
   "metadata": {},
   "outputs": [],
   "source": []
  }
 ],
 "metadata": {
  "kernelspec": {
   "display_name": "Python 3",
   "language": "python",
   "name": "python3"
  },
  "language_info": {
   "codemirror_mode": {
    "name": "ipython",
    "version": 3
   },
   "file_extension": ".py",
   "mimetype": "text/x-python",
   "name": "python",
   "nbconvert_exporter": "python",
   "pygments_lexer": "ipython3",
   "version": "3.6.5"
  }
 },
 "nbformat": 4,
 "nbformat_minor": 2
}
