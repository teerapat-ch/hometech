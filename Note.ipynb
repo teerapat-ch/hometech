{
 "cells": [
  {
   "cell_type": "markdown",
   "metadata": {},
   "source": [
    "# Recommender System\n",
    "\n",
    "----\n",
    "\n",
    "Estimate a <b>utility function</b> to predict how a user will like an item."
   ]
  },
  {
   "cell_type": "markdown",
   "metadata": {},
   "source": [
    "## Approaches\n",
    "\n",
    "1. Content-based: ดูจาก Content ของ item ที่ user เคย interact ด้วยในอดีต\n",
    "    - ดูแค่ history ของ user คนนั้นๆ\n",
    "\n",
    "2. Collaborative Filtering: ดูว่า User ชอบ item ใกล้เคียงกับคนไหนบ้าง\n",
    "    - Explicit Feedback: User บอกเราตรงๆ (review)\n",
    "    - Implicit Feedback: ทางอ้อม (Clicks,bookings)\n",
    "\n",
    "\n",
    "\n"
   ]
  },
  {
   "cell_type": "code",
   "execution_count": null,
   "metadata": {},
   "outputs": [],
   "source": []
  }
 ],
 "metadata": {
  "kernelspec": {
   "display_name": "Python [default]",
   "language": "python",
   "name": "python3"
  },
  "language_info": {
   "codemirror_mode": {
    "name": "ipython",
    "version": 3
   },
   "file_extension": ".py",
   "mimetype": "text/x-python",
   "name": "python",
   "nbconvert_exporter": "python",
   "pygments_lexer": "ipython3",
   "version": "3.5.3"
  }
 },
 "nbformat": 4,
 "nbformat_minor": 2
}
