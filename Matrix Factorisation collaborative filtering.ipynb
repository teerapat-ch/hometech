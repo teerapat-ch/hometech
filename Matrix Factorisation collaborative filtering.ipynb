{
 "cells": [
  {
   "cell_type": "code",
   "execution_count": 1,
   "metadata": {},
   "outputs": [],
   "source": [
    "import pandas as pd\n",
    "import datetime\n",
    "\n",
    "%matplotlib inline\n",
    "userLog = pd.read_csv(\"./clean_data/userlog_feature.csv\")"
   ]
  },
  {
   "cell_type": "code",
   "execution_count": 2,
   "metadata": {},
   "outputs": [],
   "source": [
    "#userLog = pd.read_csv(\"./clean_data/userlog_feature.csv\")\n",
    "userLog['datetime'] = pd.to_datetime(userLog['datetime'])\n",
    "isTrain = userLog['datetime']<datetime.datetime(2018,2,18)\n",
    "userLog = userLog[isTrain]"
   ]
  },
  {
   "cell_type": "code",
   "execution_count": 3,
   "metadata": {},
   "outputs": [
    {
     "name": "stdout",
     "output_type": "stream",
     "text": [
      "(1100701, 13)\n"
     ]
    }
   ],
   "source": [
    "userLog['projects_per_hour'] = userLog['user_clicked_by_hour']/userLog['user_clicked_projects_by_hour']\n",
    "userLog = userLog[userLog['projects_per_hour']<100]\n",
    "print(userLog.shape)"
   ]
  },
  {
   "cell_type": "code",
   "execution_count": null,
   "metadata": {},
   "outputs": [],
   "source": [
    "# userLog['datetime'] = userLog.apply(lambda row : datetime.datetime(row['year'], row['month'], row['day'], row['hour']), axis=1)\n",
    "# userLog['date'] = userLog['datetime'].map(lambda x : x.date())\n",
    "# userLog['yearmonth'] = userLog['date'].map(lambda x: str(x.year) +'-'+ str(x.month).zfill(2))\n",
    "# userLog.head(3)"
   ]
  },
  {
   "cell_type": "code",
   "execution_count": 4,
   "metadata": {},
   "outputs": [
    {
     "name": "stdout",
     "output_type": "stream",
     "text": [
      "(1066711, 13)\n"
     ]
    },
    {
     "data": {
      "text/html": [
       "<div>\n",
       "<style scoped>\n",
       "    .dataframe tbody tr th:only-of-type {\n",
       "        vertical-align: middle;\n",
       "    }\n",
       "\n",
       "    .dataframe tbody tr th {\n",
       "        vertical-align: top;\n",
       "    }\n",
       "\n",
       "    .dataframe thead th {\n",
       "        text-align: right;\n",
       "    }\n",
       "</style>\n",
       "<table border=\"1\" class=\"dataframe\">\n",
       "  <thead>\n",
       "    <tr style=\"text-align: right;\">\n",
       "      <th></th>\n",
       "      <th>userCode</th>\n",
       "      <th>project_id</th>\n",
       "      <th>requestedDevice</th>\n",
       "      <th>userAgent</th>\n",
       "      <th>pageReferrer</th>\n",
       "      <th>year</th>\n",
       "      <th>month</th>\n",
       "      <th>day</th>\n",
       "      <th>hour</th>\n",
       "      <th>datetime</th>\n",
       "      <th>user_clicked_by_hour</th>\n",
       "      <th>user_clicked_projects_by_hour</th>\n",
       "      <th>projects_per_hour</th>\n",
       "    </tr>\n",
       "  </thead>\n",
       "  <tbody>\n",
       "    <tr>\n",
       "      <th>0</th>\n",
       "      <td>7717bdc2-ea3e-e8ad-5d6b-178bd71c38b2</td>\n",
       "      <td>7956</td>\n",
       "      <td>Mobile</td>\n",
       "      <td>Android</td>\n",
       "      <td>HomeWebsite</td>\n",
       "      <td>2018</td>\n",
       "      <td>1</td>\n",
       "      <td>1</td>\n",
       "      <td>0</td>\n",
       "      <td>2018-01-01</td>\n",
       "      <td>3</td>\n",
       "      <td>3</td>\n",
       "      <td>1.0</td>\n",
       "    </tr>\n",
       "    <tr>\n",
       "      <th>1</th>\n",
       "      <td>7717bdc2-ea3e-e8ad-5d6b-178bd71c38b2</td>\n",
       "      <td>7956</td>\n",
       "      <td>Mobile</td>\n",
       "      <td>Android</td>\n",
       "      <td>HomeWebsite</td>\n",
       "      <td>2018</td>\n",
       "      <td>1</td>\n",
       "      <td>1</td>\n",
       "      <td>0</td>\n",
       "      <td>2018-01-01</td>\n",
       "      <td>3</td>\n",
       "      <td>3</td>\n",
       "      <td>1.0</td>\n",
       "    </tr>\n",
       "    <tr>\n",
       "      <th>2</th>\n",
       "      <td>cb5b4b68-cc01-6db6-f54b-4a0f881301c5</td>\n",
       "      <td>5067</td>\n",
       "      <td>Mobile</td>\n",
       "      <td>iPhone</td>\n",
       "      <td>HomeWebsite</td>\n",
       "      <td>2018</td>\n",
       "      <td>1</td>\n",
       "      <td>1</td>\n",
       "      <td>0</td>\n",
       "      <td>2018-01-01</td>\n",
       "      <td>1</td>\n",
       "      <td>1</td>\n",
       "      <td>1.0</td>\n",
       "    </tr>\n",
       "    <tr>\n",
       "      <th>3</th>\n",
       "      <td>5f74cef2-0d1e-b619-3564-0955a14e0985</td>\n",
       "      <td>6654</td>\n",
       "      <td>Mobile</td>\n",
       "      <td>iPhone</td>\n",
       "      <td>Google</td>\n",
       "      <td>2018</td>\n",
       "      <td>1</td>\n",
       "      <td>1</td>\n",
       "      <td>0</td>\n",
       "      <td>2018-01-01</td>\n",
       "      <td>1</td>\n",
       "      <td>1</td>\n",
       "      <td>1.0</td>\n",
       "    </tr>\n",
       "    <tr>\n",
       "      <th>4</th>\n",
       "      <td>dba8f279-844e-eef6-73ac-22bd7d1353cc</td>\n",
       "      <td>6474</td>\n",
       "      <td>Mobile</td>\n",
       "      <td>iPad</td>\n",
       "      <td>Google</td>\n",
       "      <td>2018</td>\n",
       "      <td>1</td>\n",
       "      <td>1</td>\n",
       "      <td>0</td>\n",
       "      <td>2018-01-01</td>\n",
       "      <td>2</td>\n",
       "      <td>2</td>\n",
       "      <td>1.0</td>\n",
       "    </tr>\n",
       "  </tbody>\n",
       "</table>\n",
       "</div>"
      ],
      "text/plain": [
       "                               userCode  project_id requestedDevice userAgent  \\\n",
       "0  7717bdc2-ea3e-e8ad-5d6b-178bd71c38b2        7956          Mobile   Android   \n",
       "1  7717bdc2-ea3e-e8ad-5d6b-178bd71c38b2        7956          Mobile   Android   \n",
       "2  cb5b4b68-cc01-6db6-f54b-4a0f881301c5        5067          Mobile    iPhone   \n",
       "3  5f74cef2-0d1e-b619-3564-0955a14e0985        6654          Mobile    iPhone   \n",
       "4  dba8f279-844e-eef6-73ac-22bd7d1353cc        6474          Mobile      iPad   \n",
       "\n",
       "  pageReferrer  year  month  day  hour   datetime  user_clicked_by_hour  \\\n",
       "0  HomeWebsite  2018      1    1     0 2018-01-01                     3   \n",
       "1  HomeWebsite  2018      1    1     0 2018-01-01                     3   \n",
       "2  HomeWebsite  2018      1    1     0 2018-01-01                     1   \n",
       "3       Google  2018      1    1     0 2018-01-01                     1   \n",
       "4       Google  2018      1    1     0 2018-01-01                     2   \n",
       "\n",
       "   user_clicked_projects_by_hour  projects_per_hour  \n",
       "0                              3                1.0  \n",
       "1                              3                1.0  \n",
       "2                              1                1.0  \n",
       "3                              1                1.0  \n",
       "4                              2                1.0  "
      ]
     },
     "execution_count": 4,
     "metadata": {},
     "output_type": "execute_result"
    }
   ],
   "source": [
    "# # Filter out user that is a bot\n",
    "\n",
    "project_count = userLog.groupby(['userCode']).size()\n",
    "select_project = set(project_count[project_count < 1000].index)\n",
    "\n",
    "userLog2 = userLog[userLog['userCode'].isin(select_project)]\n",
    "print(userLog2.shape)\n",
    "userLog2.head()"
   ]
  },
  {
   "cell_type": "code",
   "execution_count": null,
   "metadata": {},
   "outputs": [],
   "source": [
    "# min_interacted = 30\n",
    "# project_count = userLog.groupby(['project_id']).size()\n",
    "# ignore_project = set(project_count[project_count > min_interacted].index)\n",
    "# print(len(ignore_project))\n",
    "\n",
    "# df_filter = userLog[~userLog['project_id'].isin(ignore_project)]\n",
    "# df_filter.head(3)"
   ]
  },
  {
   "cell_type": "code",
   "execution_count": 5,
   "metadata": {},
   "outputs": [
    {
     "name": "stderr",
     "output_type": "stream",
     "text": [
      "/home/users/u5722792744_1/miniconda3/lib/python3.6/site-packages/ipykernel_launcher.py:1: SettingWithCopyWarning: \n",
      "A value is trying to be set on a copy of a slice from a DataFrame.\n",
      "Try using .loc[row_indexer,col_indexer] = value instead\n",
      "\n",
      "See the caveats in the documentation: http://pandas.pydata.org/pandas-docs/stable/indexing.html#indexing-view-versus-copy\n",
      "  \"\"\"Entry point for launching an IPython kernel.\n"
     ]
    }
   ],
   "source": [
    "userLog2['interacted'] = 1"
   ]
  },
  {
   "cell_type": "code",
   "execution_count": 8,
   "metadata": {},
   "outputs": [
    {
     "name": "stdout",
     "output_type": "stream",
     "text": [
      "CPU times: user 2min 8s, sys: 30.2 s, total: 2min 38s\n",
      "Wall time: 2min 31s\n"
     ]
    }
   ],
   "source": [
    "%%time\n",
    "# Convert the dataframe into a matrix using pivot() and set index of df_train for fast search \n",
    "df_train_indexed = userLog2[['userCode', 'project_id', 'interacted']].drop_duplicates()\n",
    "df_train_pivot = (df_train_indexed.pivot(index = 'userCode', columns = 'project_id', values = 'interacted')\n",
    "                                  .fillna(0))\n",
    "df_train_pivot.head(3) "
   ]
  },
  {
   "cell_type": "code",
   "execution_count": null,
   "metadata": {},
   "outputs": [],
   "source": []
  },
  {
   "cell_type": "code",
   "execution_count": 9,
   "metadata": {},
   "outputs": [
    {
     "name": "stderr",
     "output_type": "stream",
     "text": [
      "/home/users/u5722792744_1/miniconda3/lib/python3.6/site-packages/ipykernel_launcher.py:2: FutureWarning: Method .as_matrix will be removed in a future version. Use .values instead.\n",
      "  \n"
     ]
    }
   ],
   "source": [
    "import numpy as np\n",
    "R = df_train_pivot.as_matrix()\n",
    "user_ratings_mean = np.mean(R, axis = 1)\n",
    "R_demeaned = R - user_ratings_mean.reshape(-1, 1)\n"
   ]
  },
  {
   "cell_type": "code",
   "execution_count": 10,
   "metadata": {},
   "outputs": [
    {
     "data": {
      "text/plain": [
       "(442253, 1)"
      ]
     },
     "execution_count": 10,
     "metadata": {},
     "output_type": "execute_result"
    }
   ],
   "source": [
    "R.shape\n",
    "user_ratings_mean.reshape(-1, 1).shape"
   ]
  },
  {
   "cell_type": "code",
   "execution_count": 27,
   "metadata": {},
   "outputs": [
    {
     "name": "stdout",
     "output_type": "stream",
     "text": [
      "CPU times: user 1h 25min 39s, sys: 4min 3s, total: 1h 29min 43s\n",
      "Wall time: 6min 3s\n"
     ]
    }
   ],
   "source": [
    "%%time\n",
    "from scipy.sparse.linalg import svds\n",
    "U, sigma, Vt = svds(R_demeaned, k = 75)"
   ]
  },
  {
   "cell_type": "code",
   "execution_count": null,
   "metadata": {},
   "outputs": [],
   "source": [
    "# import numpy as np\n",
    "# import gzip\n",
    "# np.save(open(\"./var/U_k250.np\", \"wb\"), U)\n",
    "# np.save(open(\"./var/sigma_k250.np\", \"wb\"), sigma)\n",
    "# np.save(open(\"./var/Vt_k250.np\", \"wb\"), Vt)"
   ]
  },
  {
   "cell_type": "code",
   "execution_count": 28,
   "metadata": {},
   "outputs": [],
   "source": [
    "sigma = np.diag(sigma)"
   ]
  },
  {
   "cell_type": "code",
   "execution_count": 29,
   "metadata": {},
   "outputs": [],
   "source": [
    "all_user_predicted_ratings = np.dot(np.dot(U, sigma), Vt) + user_ratings_mean.reshape(-1, 1)\n",
    "preds_df = pd.DataFrame(all_user_predicted_ratings, columns = df_train_pivot.columns)"
   ]
  },
  {
   "cell_type": "code",
   "execution_count": 30,
   "metadata": {},
   "outputs": [],
   "source": [
    "#preds_df = pd.DataFrame(preds_df, columns = df_train_pivot.columns)\n",
    "preds_df['userCode'] = df_train_pivot.index\n",
    "preds_df2 = preds_df.reset_index()\n",
    "#del preds_df['project_id']"
   ]
  },
  {
   "cell_type": "code",
   "execution_count": null,
   "metadata": {},
   "outputs": [],
   "source": []
  },
  {
   "cell_type": "markdown",
   "metadata": {},
   "source": [
    "### Predicting users"
   ]
  },
  {
   "cell_type": "code",
   "execution_count": 31,
   "metadata": {},
   "outputs": [
    {
     "data": {
      "text/plain": [
       "[5342]"
      ]
     },
     "execution_count": 31,
     "metadata": {},
     "output_type": "execute_result"
    }
   ],
   "source": [
    "# New recommend function \n",
    "user_seen_projs = userLog.groupby(\"userCode\").agg({\"project_id\":lambda x:list(x)})\n",
    "user_seen_projs.loc[\"00005aba-5ebc-0821-f5a9-bacca40be125\"][0]"
   ]
  },
  {
   "cell_type": "code",
   "execution_count": 32,
   "metadata": {},
   "outputs": [
    {
     "data": {
      "text/plain": [
       "'9027 6298 1744 2629 9007 1104 7113'"
      ]
     },
     "execution_count": 32,
     "metadata": {},
     "output_type": "execute_result"
    }
   ],
   "source": [
    "projs_id = preds_df.columns\n",
    "def recommend_project(userId, preds_df=preds_df):\n",
    "    \n",
    "    # If not found, return default\n",
    "    score = preds_df.query(\"userCode=='%s'\"%userId)\n",
    "    if score.shape[0]==0: return '5858 3738 4201 5452 5678 5764 5067'\n",
    "    \n",
    "    # Find out users old projects\n",
    "    if userId not in user_seen_projs: seen_projs = []\n",
    "    else: seen_projs = user_seen_projs.loc[userId][0]        \n",
    "    \n",
    "    cal_df = pd.DataFrame({\"proj_id\":projs_id,\"score\":score.values[0]})\n",
    "    recommending = cal_df[cal_df['proj_id']!=\"userCode\"].sort_values(\"score\",ascending=False).head(7+len(seen_projs))\n",
    "\n",
    "    ans = [a for a in recommending['proj_id'] if a not in seen_projs]\n",
    "    return \" \".join([str(i) for i in ans[:7]])\n",
    "    \n",
    "recommend_project(\"00005aba-5ebc-0821-f5a9-bacca40be125\")"
   ]
  },
  {
   "cell_type": "code",
   "execution_count": 33,
   "metadata": {},
   "outputs": [
    {
     "name": "stdout",
     "output_type": "stream",
     "text": [
      "                               userCode            ans_project_id\n",
      "0  5ea1f668-f96d-9544-38b6-d4c2e39f668c  [6042, 7026, 8091, 6991]\n",
      "1  8065faa5-cfa4-e0c8-5ec5-22146af8665c                    [8955]\n",
      "2  b87bb27a-7679-4631-ef12-075fa9ee1b6a                    [6221]\n",
      "3  f2aad9cb-814b-bb9c-bce9-85b979d81588        [9066, 8412, 7694]\n",
      "4  7cdef1ff-5dd9-8eb9-0fd2-28244bac1e87                    [6799]\n",
      "CPU times: user 1h 50min 25s, sys: 6min 47s, total: 1h 57min 13s\n",
      "Wall time: 7min 29s\n"
     ]
    }
   ],
   "source": [
    "%%time\n",
    "def predictFromFile(file,submission_name,sep=','):    \n",
    "    users = pd.read_csv(file,sep=sep)\n",
    "    print(users.head())\n",
    "    users['project_id'] = users['userCode'].apply(recommend_project)\n",
    "    users.to_csv(\"./submission/%s.csv\"%submission_name,index=False)\n",
    "    \n",
    "predictFromFile(\"./clean_data/test_before_021718_7000row.csv\",\"matrix_factorise_v8_k75_ontest7000\")"
   ]
  },
  {
   "cell_type": "code",
   "execution_count": 34,
   "metadata": {},
   "outputs": [
    {
     "name": "stdout",
     "output_type": "stream",
     "text": [
      "                               userCode\n",
      "0  003366c6-0cd9-48e7-d134-2051d7360c2d\n",
      "1  003b2f18-60b4-37be-c63d-0caead1afa97\n",
      "2  003d571e-9de7-6de3-2cb6-2ae190cc7beb\n",
      "3  00426ede-6813-949b-de2e-6d8b228dff1d\n",
      "4  0043a9c7-cace-1aa1-3188-4b173bf28991\n",
      "CPU times: user 1h 48min 43s, sys: 6min 53s, total: 1h 55min 37s\n",
      "Wall time: 7min 16s\n"
     ]
    }
   ],
   "source": [
    "%%time\n",
    "predictFromFile(\"./data/testing_users.csv\",\"matrix_factorise_v8_k75_submission\")"
   ]
  },
  {
   "cell_type": "code",
   "execution_count": 35,
   "metadata": {},
   "outputs": [
    {
     "name": "stdout",
     "output_type": "stream",
     "text": [
      "                               userCode\n",
      "0  003b2f18-60b4-37be-c63d-0caead1afa97\n",
      "1  02b44422-25f6-56bb-459c-5944b346badb\n",
      "2  0419a38a-d883-3bb7-fa1a-8e1a256b89d3\n",
      "3  044ccce0-3fbe-2887-0d19-f032d8758548\n",
      "4  046853d9-890d-d0c7-a964-c86f172b0390\n"
     ]
    }
   ],
   "source": [
    "predictFromFile(\"./data/200_users.csv\",\"matrix_factorise_v8_k75_submission_200users\")"
   ]
  },
  {
   "cell_type": "code",
   "execution_count": null,
   "metadata": {},
   "outputs": [
    {
     "name": "stdout",
     "output_type": "stream",
     "text": [
      "                               userCode ans_project_id\n",
      "0  f5a8eabe-894a-1e9b-48bd-d70b063b3dd7   [5858, 5678]\n",
      "1  b37b12ff-7227-f33f-3d20-41d6aa7bcb46         [9415]\n",
      "2  a2157f10-69be-8a70-3731-0c57774d6b4e   [5386, 4437]\n",
      "3  144ffbe5-a07d-b44d-6cf9-53e2f87f4354         [2610]\n",
      "4  0b0317e4-1f20-c1c2-e81f-97a1a61ef841   [8437, 6519]\n"
     ]
    }
   ],
   "source": [
    "predictFromFile(\"./clean_data/test_before_021718_700row.csv\",\"matrix_factorise_v8_k75_ontest700\")"
   ]
  },
  {
   "cell_type": "code",
   "execution_count": null,
   "metadata": {},
   "outputs": [],
   "source": [
    "for i in range(5):\n",
    "    print(i)\n",
    "    \n",
    "    predictFromFile(\"./clean_data/test_data/test_before_021718_700row_fold%d.csv\"%i,\"matrix_factorise_v5_k5000_ontest700_fold%d\"%i)"
   ]
  },
  {
   "cell_type": "code",
   "execution_count": null,
   "metadata": {},
   "outputs": [],
   "source": [
    "%%time\n",
    "users['project_id'] = users['userCode'].apply(recommend_project)"
   ]
  },
  {
   "cell_type": "code",
   "execution_count": null,
   "metadata": {},
   "outputs": [],
   "source": [
    "users.to_csv(\"./submission/submission_v4_full.csv\",index=False)"
   ]
  },
  {
   "cell_type": "code",
   "execution_count": null,
   "metadata": {},
   "outputs": [],
   "source": [
    "users.head()"
   ]
  },
  {
   "cell_type": "code",
   "execution_count": null,
   "metadata": {},
   "outputs": [],
   "source": [
    "users.shape"
   ]
  },
  {
   "cell_type": "code",
   "execution_count": null,
   "metadata": {},
   "outputs": [],
   "source": []
  }
 ],
 "metadata": {
  "kernelspec": {
   "display_name": "Python 3",
   "language": "python",
   "name": "python3"
  },
  "language_info": {
   "codemirror_mode": {
    "name": "ipython",
    "version": 3
   },
   "file_extension": ".py",
   "mimetype": "text/x-python",
   "name": "python",
   "nbconvert_exporter": "python",
   "pygments_lexer": "ipython3",
   "version": "3.6.5"
  }
 },
 "nbformat": 4,
 "nbformat_minor": 2
}
