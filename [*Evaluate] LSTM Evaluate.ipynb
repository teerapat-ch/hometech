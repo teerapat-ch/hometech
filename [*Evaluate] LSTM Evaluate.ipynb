{
 "cells": [
  {
   "cell_type": "code",
   "execution_count": 228,
   "metadata": {},
   "outputs": [
    {
     "name": "stdout",
     "output_type": "stream",
     "text": [
      "1\n"
     ]
    }
   ],
   "source": [
    "model_file = \"./model/LSTMfuture_v4.weight\"\n",
    "#testing_user = \"./data/testing_users.csv\"\n",
    "testing_user = \"./clean_data/test_data/test_before_021718_7000row_fold0.csv\"\n",
    "submission_file = \"./submission/deep_learning_lstm_v1.csv\"\n",
    "\n",
    "import torch\n",
    "import torch.nn as nn\n",
    "from torch import optim\n",
    "import torch.nn.functional as F\n",
    "import torch.autograd as autograd\n",
    "from torch.autograd import Variable\n",
    "from torch.nn.utils.rnn import pad_packed_sequence, pack_padded_sequence\n",
    "\n",
    "\n",
    "torch.cuda.set_device(1)\n",
    "print(torch.cuda.current_device())"
   ]
  },
  {
   "cell_type": "code",
   "execution_count": 2,
   "metadata": {},
   "outputs": [],
   "source": [
    "from gensim.models.doc2vec import Doc2Vec, TaggedDocument\n",
    "\n",
    "modelwv = Doc2Vec.load(\"./model/doc2vec_before_train.wv\")"
   ]
  },
  {
   "cell_type": "markdown",
   "metadata": {},
   "source": [
    "## Predicting projects for user using deep learning"
   ]
  },
  {
   "cell_type": "code",
   "execution_count": 3,
   "metadata": {},
   "outputs": [],
   "source": [
    "import pandas as pd\n",
    "import datetime\n",
    "import torch"
   ]
  },
  {
   "cell_type": "code",
   "execution_count": 4,
   "metadata": {},
   "outputs": [
    {
     "data": {
      "text/html": [
       "<div>\n",
       "<style scoped>\n",
       "    .dataframe tbody tr th:only-of-type {\n",
       "        vertical-align: middle;\n",
       "    }\n",
       "\n",
       "    .dataframe tbody tr th {\n",
       "        vertical-align: top;\n",
       "    }\n",
       "\n",
       "    .dataframe thead th {\n",
       "        text-align: right;\n",
       "    }\n",
       "</style>\n",
       "<table border=\"1\" class=\"dataframe\">\n",
       "  <thead>\n",
       "    <tr style=\"text-align: right;\">\n",
       "      <th></th>\n",
       "      <th>userCode</th>\n",
       "      <th>project_id</th>\n",
       "      <th>requestedDevice</th>\n",
       "      <th>userAgent</th>\n",
       "      <th>pageReferrer</th>\n",
       "      <th>datetime</th>\n",
       "    </tr>\n",
       "  </thead>\n",
       "  <tbody>\n",
       "    <tr>\n",
       "      <th>0</th>\n",
       "      <td>7717bdc2-ea3e-e8ad-5d6b-178bd71c38b2</td>\n",
       "      <td>7956</td>\n",
       "      <td>Mobile</td>\n",
       "      <td>Android</td>\n",
       "      <td>HomeWebsite</td>\n",
       "      <td>2018-01-01 00:00:00</td>\n",
       "    </tr>\n",
       "    <tr>\n",
       "      <th>1</th>\n",
       "      <td>7717bdc2-ea3e-e8ad-5d6b-178bd71c38b2</td>\n",
       "      <td>7956</td>\n",
       "      <td>Mobile</td>\n",
       "      <td>Android</td>\n",
       "      <td>HomeWebsite</td>\n",
       "      <td>2018-01-01 00:00:00</td>\n",
       "    </tr>\n",
       "    <tr>\n",
       "      <th>2</th>\n",
       "      <td>cb5b4b68-cc01-6db6-f54b-4a0f881301c5</td>\n",
       "      <td>5067</td>\n",
       "      <td>Mobile</td>\n",
       "      <td>iPhone</td>\n",
       "      <td>HomeWebsite</td>\n",
       "      <td>2018-01-01 00:00:00</td>\n",
       "    </tr>\n",
       "    <tr>\n",
       "      <th>3</th>\n",
       "      <td>5f74cef2-0d1e-b619-3564-0955a14e0985</td>\n",
       "      <td>6654</td>\n",
       "      <td>Mobile</td>\n",
       "      <td>iPhone</td>\n",
       "      <td>Google</td>\n",
       "      <td>2018-01-01 00:00:00</td>\n",
       "    </tr>\n",
       "    <tr>\n",
       "      <th>4</th>\n",
       "      <td>dba8f279-844e-eef6-73ac-22bd7d1353cc</td>\n",
       "      <td>6474</td>\n",
       "      <td>Mobile</td>\n",
       "      <td>iPad</td>\n",
       "      <td>Google</td>\n",
       "      <td>2018-01-01 00:00:00</td>\n",
       "    </tr>\n",
       "  </tbody>\n",
       "</table>\n",
       "</div>"
      ],
      "text/plain": [
       "                               userCode  project_id requestedDevice userAgent  \\\n",
       "0  7717bdc2-ea3e-e8ad-5d6b-178bd71c38b2        7956          Mobile   Android   \n",
       "1  7717bdc2-ea3e-e8ad-5d6b-178bd71c38b2        7956          Mobile   Android   \n",
       "2  cb5b4b68-cc01-6db6-f54b-4a0f881301c5        5067          Mobile    iPhone   \n",
       "3  5f74cef2-0d1e-b619-3564-0955a14e0985        6654          Mobile    iPhone   \n",
       "4  dba8f279-844e-eef6-73ac-22bd7d1353cc        6474          Mobile      iPad   \n",
       "\n",
       "  pageReferrer             datetime  \n",
       "0  HomeWebsite  2018-01-01 00:00:00  \n",
       "1  HomeWebsite  2018-01-01 00:00:00  \n",
       "2  HomeWebsite  2018-01-01 00:00:00  \n",
       "3       Google  2018-01-01 00:00:00  \n",
       "4       Google  2018-01-01 00:00:00  "
      ]
     },
     "execution_count": 4,
     "metadata": {},
     "output_type": "execute_result"
    }
   ],
   "source": [
    "# Get all necessary data frame here\n",
    "submission_users = pd.read_csv(testing_user)\n",
    "userLog = pd.read_csv('./clean_data/userLog_beforeTest.csv')\n",
    "userLog.head()"
   ]
  },
  {
   "cell_type": "markdown",
   "metadata": {},
   "source": [
    "### Map project id to project Index [0 to index]"
   ]
  },
  {
   "cell_type": "code",
   "execution_count": 5,
   "metadata": {},
   "outputs": [],
   "source": [
    "modelwv.wv.index2word.index('6709')\n",
    "\n",
    "userLog = pd.read_csv(\"./clean_data/userlog_feature.csv\")#.head(100000)\n",
    "userLog['datetime'] = pd.to_datetime(userLog['datetime'])\n",
    "isTrain = userLog['datetime']<datetime.datetime(2018,2,18)\n",
    "test = userLog[~isTrain]\n",
    "userLog = userLog[isTrain]\n",
    "userLog1 = userLog.sort_values(\"datetime\")\n"
   ]
  },
  {
   "cell_type": "code",
   "execution_count": 6,
   "metadata": {},
   "outputs": [],
   "source": [
    "userLogSeq = userLog1.groupby(\"userCode\").agg({\"project_id\":lambda x: list(x)})\n",
    "userLogSeqFiltered = userLogSeq[userLogSeq['project_id'].apply(lambda x: len(x))>1]"
   ]
  },
  {
   "cell_type": "code",
   "execution_count": 208,
   "metadata": {},
   "outputs": [],
   "source": [
    "# Clean user df\n",
    "submission_users_merged = submission_users.merge(userLogSeqFiltered['project_id'].reset_index(), on='userCode')\n",
    "#submission_users.columns = 'userCode',' ans_project_id',' project_id'\n",
    "submission_users_merged['ans_project_id'] = submission_users_merged['ans_project_id'].apply(eval)\n",
    "submission_users_merged['project_id'] = submission_users_merged['project_id'].apply(lambda x: [modelwv.wv.index2word.index(str(i)) for i in x])\n",
    "submission_users_merged['ans_project_id'] = submission_users_merged['ans_project_id'].apply(lambda x: [modelwv.wv.index2word.index(str(i)) for i in x if str(i) in modelwv.wv.index2word])"
   ]
  },
  {
   "cell_type": "code",
   "execution_count": 209,
   "metadata": {},
   "outputs": [],
   "source": [
    "submission_users_merged = submission_users_merged.set_index(\"userCode\")"
   ]
  },
  {
   "cell_type": "markdown",
   "metadata": {},
   "source": [
    "## Begin padding before input to LSTM"
   ]
  },
  {
   "cell_type": "code",
   "execution_count": 210,
   "metadata": {},
   "outputs": [],
   "source": [
    "submission_users_merged['seq_len'] = submission_users_merged['project_id'].apply(len)\n",
    "filtered_submission_users = submission_users_merged[submission_users_merged['seq_len']<500]\n",
    "userSeq = filtered_submission_users.sort_values('seq_len',ascending=False)\n",
    "maxSeq = max(userSeq['seq_len'])"
   ]
  },
  {
   "cell_type": "code",
   "execution_count": 211,
   "metadata": {},
   "outputs": [],
   "source": [
    "userSeq['padded_features'] = userSeq.apply(lambda x: x['project_id']+[0]*(maxSeq - x['seq_len']),axis=1)"
   ]
  },
  {
   "cell_type": "code",
   "execution_count": 212,
   "metadata": {},
   "outputs": [
    {
     "data": {
      "text/plain": [
       "267    4699\n",
       "Name: new_len, dtype: int64"
      ]
     },
     "execution_count": 212,
     "metadata": {},
     "output_type": "execute_result"
    }
   ],
   "source": [
    "userSeq['new_len'] = userSeq['padded_features'].apply(len)\n",
    "userSeq['new_len'].value_counts()"
   ]
  },
  {
   "cell_type": "code",
   "execution_count": 213,
   "metadata": {},
   "outputs": [
    {
     "data": {
      "text/plain": [
       "userCode\n",
       "4c42709a-19f6-056a-b504-1e402dbca126    [4534, 690, 690, 2933, 690, 773, 3182, 530, 34...\n",
       "1aecd8e5-f02b-ba5c-e865-49da43ad8f22    [4633, 4633, 4985, 5105, 5106, 3040, 5107, 510...\n",
       "d8ebf128-caa2-b3d7-0bea-8fbb9fb9eb87    [44, 157, 44, 201, 13, 13, 129, 564, 201, 798,...\n",
       "334963e3-56e0-8fed-2a80-460e6bec516e    [259, 259, 891, 104, 1209, 104, 2208, 94, 1487...\n",
       "a5021c5b-f424-e5f9-4675-cff0d0e302fb    [3707, 5089, 4645, 5270, 5053, 5271, 4995, 387...\n",
       "Name: padded_features, dtype: object"
      ]
     },
     "execution_count": 213,
     "metadata": {},
     "output_type": "execute_result"
    }
   ],
   "source": [
    "userSeq['padded_features'].head()"
   ]
  },
  {
   "cell_type": "code",
   "execution_count": 214,
   "metadata": {},
   "outputs": [
    {
     "name": "stdout",
     "output_type": "stream",
     "text": [
      "torch.Size([4699, 267])\n"
     ]
    }
   ],
   "source": [
    "features = Variable(torch.Tensor(userSeq['padded_features']).long())#.cuda())\n",
    "seq_len = torch.Tensor(userSeq['seq_len'].values).long()#.cuda()\n",
    "\n",
    "print(features.shape)"
   ]
  },
  {
   "cell_type": "markdown",
   "metadata": {},
   "source": [
    "# Now we are ready"
   ]
  },
  {
   "cell_type": "code",
   "execution_count": 215,
   "metadata": {},
   "outputs": [
    {
     "name": "stderr",
     "output_type": "stream",
     "text": [
      "/home/users/u5722792744_1/miniconda3/lib/python3.6/site-packages/ipykernel_launcher.py:10: DeprecationWarning: Call to deprecated `syn0` (Attribute will be removed in 4.0.0, use self.wv.vectors instead).\n",
      "  # Remove the CWD from sys.path while we load stuff.\n"
     ]
    },
    {
     "data": {
      "text/plain": [
       "Embedding(5317, 300)"
      ]
     },
     "execution_count": 215,
     "metadata": {},
     "output_type": "execute_result"
    }
   ],
   "source": [
    "def from_pretrained(embeddings, freeze=True):\n",
    "    assert embeddings.dim() == 2, \\\n",
    "         'Embeddings parameter is expected to be 2-dimensional'\n",
    "    rows, cols = embeddings.shape\n",
    "    embedding = torch.nn.Embedding(num_embeddings=rows, embedding_dim=cols)\n",
    "    embedding.weight = torch.nn.Parameter(embeddings)\n",
    "    embedding.weight.requires_grad = not freeze\n",
    "    return embedding\n",
    "\n",
    "\n",
    "weights = torch.FloatTensor(modelwv.wv.syn0)\n",
    "weights.shape[0]\n",
    "\n",
    "from_pretrained(weights, False)"
   ]
  },
  {
   "cell_type": "code",
   "execution_count": 216,
   "metadata": {},
   "outputs": [],
   "source": [
    "hidden_size = 30\n",
    "\n",
    "class LSTM(nn.Module):\n",
    "    def __init__(self):\n",
    "        super(LSTM, self).__init__()\n",
    "        \n",
    "        #self.projEmbedding = nn.Embedding(*weights.shape).from_pretrained(weight) # Spreading tuple into embedding dim\n",
    "        self.projEmbedding = from_pretrained(weights, False)\n",
    "        \n",
    "        self.lstm = nn.LSTM(weights.shape[1],hidden_size, bidirectional = False)\n",
    "        \n",
    "        self.hidden2out = nn.Linear(hidden_size, weights.shape[0])#weights.shape[0])\n",
    "        #self.init_hidden()\n",
    "    \n",
    "    def init_hidden(self, batch_size):\n",
    "        #TODO: change to clicking context\n",
    "        self.hidden = (Variable(torch.zeros(1, batch_size, hidden_size)),Variable(torch.zeros(1, batch_size, hidden_size)))\n",
    "        \n",
    "    def forward(self, inputs, lengths):\n",
    "\n",
    "        batch_size = inputs.size()[0]\n",
    "        \n",
    "        embeds = self.projEmbedding(inputs)\n",
    "        \n",
    "        transposed_embeds = embeds.transpose(0,1)\n",
    "        \n",
    "        self.init_hidden(batch_size)\n",
    "        \n",
    "        packed_input = pack_padded_sequence(transposed_embeds, lengths.numpy())\n",
    "        packed_outputs, (ht, ct) = self.lstm(packed_input, self.hidden)\n",
    "        \n",
    "        out, _ = pad_packed_sequence(packed_outputs)\n",
    "        \n",
    "        out = self.hidden2out(out)\n",
    "      \n",
    "        \n",
    "        return out.transpose(0,1)#out.transpose(0,1)#\n"
   ]
  },
  {
   "cell_type": "code",
   "execution_count": 229,
   "metadata": {},
   "outputs": [],
   "source": [
    "model = LSTM()\n",
    "model.load_state_dict(torch.load(model_file))"
   ]
  },
  {
   "cell_type": "code",
   "execution_count": 219,
   "metadata": {},
   "outputs": [
    {
     "data": {
      "text/plain": [
       "torch.Size([5, 267, 5317])"
      ]
     },
     "execution_count": 219,
     "metadata": {},
     "output_type": "execute_result"
    }
   ],
   "source": [
    "outputs = model(features[:5], seq_len[:5])\n",
    "outputs.shape"
   ]
  },
  {
   "cell_type": "code",
   "execution_count": 221,
   "metadata": {},
   "outputs": [],
   "source": [
    "# TODO extract most probably correct projects from deep\n",
    "\n",
    "def score_AP(correct, recommended, n=7):\n",
    "    recommended = list(recommended)[:7]\n",
    "    assert(len(set(recommended))==len(recommended)) # Recommended should be unique    \n",
    "    precisions = []\n",
    "    correct_score = 1\n",
    "    for idx, recommend_item in enumerate(recommended):\n",
    "        if str(recommend_item) not in correct: precisions.append(0)\n",
    "        else:                         \n",
    "            precisions.append(correct_score/(idx+1))\n",
    "            correct_score+=1\n",
    "    return sum(precisions)/min(len(correct),n)\n",
    "#score_AP([\"5858\", \"5678\"],\"5678 5858 8058 8107 6527 9132 6446\",7)"
   ]
  },
  {
   "cell_type": "code",
   "execution_count": 230,
   "metadata": {},
   "outputs": [
    {
     "name": "stderr",
     "output_type": "stream",
     "text": [
      "/home/users/u5722792744_1/miniconda3/lib/python3.6/site-packages/ipykernel_launcher.py:7: SettingWithCopyWarning: \n",
      "A value is trying to be set on a copy of a slice from a DataFrame.\n",
      "Try using .loc[row_indexer,col_indexer] = value instead\n",
      "\n",
      "See the caveats in the documentation: http://pandas.pydata.org/pandas-docs/stable/indexing.html#indexing-view-versus-copy\n",
      "  import sys\n"
     ]
    }
   ],
   "source": [
    "#Get latest prediction\n",
    "#def \n",
    "n = 4700\n",
    "outputs = model(features[:n], seq_len[:n])\n",
    "preds = np.array([o[seq-1].data.numpy() for o, seq in zip(outputs[:n],seq_len[:n])])\n",
    "idxes = [(-preds[1]).argsort()[:30] for pred in preds]\n",
    "filtered_submission_users['preds'] = idxes"
   ]
  },
  {
   "cell_type": "code",
   "execution_count": 231,
   "metadata": {},
   "outputs": [
    {
     "name": "stderr",
     "output_type": "stream",
     "text": [
      "/home/users/u5722792744_1/miniconda3/lib/python3.6/site-packages/ipykernel_launcher.py:2: SettingWithCopyWarning: \n",
      "A value is trying to be set on a copy of a slice from a DataFrame.\n",
      "Try using .loc[row_indexer,col_indexer] = value instead\n",
      "\n",
      "See the caveats in the documentation: http://pandas.pydata.org/pandas-docs/stable/indexing.html#indexing-view-versus-copy\n",
      "  \n"
     ]
    }
   ],
   "source": [
    "eval_df = filtered_submission_users[filtered_submission_users['ans_project_id'].apply(len)>0]\n",
    "eval_df['MAP'] = eval_df.apply(lambda x: score_AP(x['ans_project_id'],x['preds']),axis=1)"
   ]
  },
  {
   "cell_type": "code",
   "execution_count": 232,
   "metadata": {},
   "outputs": [
    {
     "data": {
      "text/plain": [
       "ans_project_id        [79, 540, 320, 1500, 302, 3528, 97, 17, 1119]\n",
       "project_id        [502, 48, 473, 473, 184, 1296, 1052, 931, 931,...\n",
       "seq_len                                                          31\n",
       "preds             [75, 110, 85, 25, 0, 95, 90, 35, 20, 55, 5, 24...\n",
       "MAP                                                               0\n",
       "dtype: object"
      ]
     },
     "execution_count": 232,
     "metadata": {},
     "output_type": "execute_result"
    }
   ],
   "source": [
    "eval_df.head().sum()"
   ]
  },
  {
   "cell_type": "code",
   "execution_count": 240,
   "metadata": {},
   "outputs": [
    {
     "data": {
      "text/html": [
       "<div>\n",
       "<style scoped>\n",
       "    .dataframe tbody tr th:only-of-type {\n",
       "        vertical-align: middle;\n",
       "    }\n",
       "\n",
       "    .dataframe tbody tr th {\n",
       "        vertical-align: top;\n",
       "    }\n",
       "\n",
       "    .dataframe thead th {\n",
       "        text-align: right;\n",
       "    }\n",
       "</style>\n",
       "<table border=\"1\" class=\"dataframe\">\n",
       "  <thead>\n",
       "    <tr style=\"text-align: right;\">\n",
       "      <th></th>\n",
       "      <th>ans_project_id</th>\n",
       "      <th>project_id</th>\n",
       "      <th>seq_len</th>\n",
       "      <th>padded_features</th>\n",
       "      <th>new_len</th>\n",
       "    </tr>\n",
       "    <tr>\n",
       "      <th>userCode</th>\n",
       "      <th></th>\n",
       "      <th></th>\n",
       "      <th></th>\n",
       "      <th></th>\n",
       "      <th></th>\n",
       "    </tr>\n",
       "  </thead>\n",
       "  <tbody>\n",
       "    <tr>\n",
       "      <th>4c42709a-19f6-056a-b504-1e402dbca126</th>\n",
       "      <td>[2953, 4346, 4161]</td>\n",
       "      <td>[4534, 690, 690, 2933, 690, 773, 3182, 530, 34...</td>\n",
       "      <td>267</td>\n",
       "      <td>[4534, 690, 690, 2933, 690, 773, 3182, 530, 34...</td>\n",
       "      <td>267</td>\n",
       "    </tr>\n",
       "    <tr>\n",
       "      <th>1aecd8e5-f02b-ba5c-e865-49da43ad8f22</th>\n",
       "      <td>[702, 5038, 5312, 3789, 2013, 2524, 4494, 5049...</td>\n",
       "      <td>[4633, 4633, 4985, 5105, 5106, 3040, 5107, 510...</td>\n",
       "      <td>244</td>\n",
       "      <td>[4633, 4633, 4985, 5105, 5106, 3040, 5107, 510...</td>\n",
       "      <td>267</td>\n",
       "    </tr>\n",
       "    <tr>\n",
       "      <th>d8ebf128-caa2-b3d7-0bea-8fbb9fb9eb87</th>\n",
       "      <td>[2945, 1246, 426]</td>\n",
       "      <td>[44, 157, 44, 201, 13, 13, 129, 564, 201, 798,...</td>\n",
       "      <td>194</td>\n",
       "      <td>[44, 157, 44, 201, 13, 13, 129, 564, 201, 798,...</td>\n",
       "      <td>267</td>\n",
       "    </tr>\n",
       "    <tr>\n",
       "      <th>334963e3-56e0-8fed-2a80-460e6bec516e</th>\n",
       "      <td>[159, 187, 664]</td>\n",
       "      <td>[259, 259, 891, 104, 1209, 104, 2208, 94, 1487...</td>\n",
       "      <td>188</td>\n",
       "      <td>[259, 259, 891, 104, 1209, 104, 2208, 94, 1487...</td>\n",
       "      <td>267</td>\n",
       "    </tr>\n",
       "    <tr>\n",
       "      <th>a5021c5b-f424-e5f9-4675-cff0d0e302fb</th>\n",
       "      <td>[1772, 1198, 1951, 5127, 620, 642, 4404, 4331,...</td>\n",
       "      <td>[3707, 5089, 4645, 5270, 5053, 5271, 4995, 387...</td>\n",
       "      <td>186</td>\n",
       "      <td>[3707, 5089, 4645, 5270, 5053, 5271, 4995, 387...</td>\n",
       "      <td>267</td>\n",
       "    </tr>\n",
       "  </tbody>\n",
       "</table>\n",
       "</div>"
      ],
      "text/plain": [
       "                                                                         ans_project_id  \\\n",
       "userCode                                                                                  \n",
       "4c42709a-19f6-056a-b504-1e402dbca126                                 [2953, 4346, 4161]   \n",
       "1aecd8e5-f02b-ba5c-e865-49da43ad8f22  [702, 5038, 5312, 3789, 2013, 2524, 4494, 5049...   \n",
       "d8ebf128-caa2-b3d7-0bea-8fbb9fb9eb87                                  [2945, 1246, 426]   \n",
       "334963e3-56e0-8fed-2a80-460e6bec516e                                    [159, 187, 664]   \n",
       "a5021c5b-f424-e5f9-4675-cff0d0e302fb  [1772, 1198, 1951, 5127, 620, 642, 4404, 4331,...   \n",
       "\n",
       "                                                                             project_id  \\\n",
       "userCode                                                                                  \n",
       "4c42709a-19f6-056a-b504-1e402dbca126  [4534, 690, 690, 2933, 690, 773, 3182, 530, 34...   \n",
       "1aecd8e5-f02b-ba5c-e865-49da43ad8f22  [4633, 4633, 4985, 5105, 5106, 3040, 5107, 510...   \n",
       "d8ebf128-caa2-b3d7-0bea-8fbb9fb9eb87  [44, 157, 44, 201, 13, 13, 129, 564, 201, 798,...   \n",
       "334963e3-56e0-8fed-2a80-460e6bec516e  [259, 259, 891, 104, 1209, 104, 2208, 94, 1487...   \n",
       "a5021c5b-f424-e5f9-4675-cff0d0e302fb  [3707, 5089, 4645, 5270, 5053, 5271, 4995, 387...   \n",
       "\n",
       "                                      seq_len  \\\n",
       "userCode                                        \n",
       "4c42709a-19f6-056a-b504-1e402dbca126      267   \n",
       "1aecd8e5-f02b-ba5c-e865-49da43ad8f22      244   \n",
       "d8ebf128-caa2-b3d7-0bea-8fbb9fb9eb87      194   \n",
       "334963e3-56e0-8fed-2a80-460e6bec516e      188   \n",
       "a5021c5b-f424-e5f9-4675-cff0d0e302fb      186   \n",
       "\n",
       "                                                                        padded_features  \\\n",
       "userCode                                                                                  \n",
       "4c42709a-19f6-056a-b504-1e402dbca126  [4534, 690, 690, 2933, 690, 773, 3182, 530, 34...   \n",
       "1aecd8e5-f02b-ba5c-e865-49da43ad8f22  [4633, 4633, 4985, 5105, 5106, 3040, 5107, 510...   \n",
       "d8ebf128-caa2-b3d7-0bea-8fbb9fb9eb87  [44, 157, 44, 201, 13, 13, 129, 564, 201, 798,...   \n",
       "334963e3-56e0-8fed-2a80-460e6bec516e  [259, 259, 891, 104, 1209, 104, 2208, 94, 1487...   \n",
       "a5021c5b-f424-e5f9-4675-cff0d0e302fb  [3707, 5089, 4645, 5270, 5053, 5271, 4995, 387...   \n",
       "\n",
       "                                      new_len  \n",
       "userCode                                       \n",
       "4c42709a-19f6-056a-b504-1e402dbca126      267  \n",
       "1aecd8e5-f02b-ba5c-e865-49da43ad8f22      267  \n",
       "d8ebf128-caa2-b3d7-0bea-8fbb9fb9eb87      267  \n",
       "334963e3-56e0-8fed-2a80-460e6bec516e      267  \n",
       "a5021c5b-f424-e5f9-4675-cff0d0e302fb      267  "
      ]
     },
     "execution_count": 240,
     "metadata": {},
     "output_type": "execute_result"
    }
   ],
   "source": [
    "userSeq.head()"
   ]
  },
  {
   "cell_type": "code",
   "execution_count": 241,
   "metadata": {},
   "outputs": [],
   "source": [
    "userSeq.to_csv(\"./clean_data/deeplstmfeatures.csv\")"
   ]
  },
  {
   "cell_type": "code",
   "execution_count": null,
   "metadata": {},
   "outputs": [],
   "source": []
  },
  {
   "cell_type": "code",
   "execution_count": 237,
   "metadata": {},
   "outputs": [
    {
     "data": {
      "text/html": [
       "<style>.container { width:85% !important; }</style>"
      ],
      "text/plain": [
       "<IPython.core.display.HTML object>"
      ]
     },
     "metadata": {},
     "output_type": "display_data"
    }
   ],
   "source": [
    "from IPython.core.display import display, HTML\n",
    "display(HTML(\"<style>.container { width:85% !important; }</style>\"))"
   ]
  }
 ],
 "metadata": {
  "kernelspec": {
   "display_name": "Python 3",
   "language": "python",
   "name": "python3"
  },
  "language_info": {
   "codemirror_mode": {
    "name": "ipython",
    "version": 3
   },
   "file_extension": ".py",
   "mimetype": "text/x-python",
   "name": "python",
   "nbconvert_exporter": "python",
   "pygments_lexer": "ipython3",
   "version": "3.6.5"
  }
 },
 "nbformat": 4,
 "nbformat_minor": 2
}
