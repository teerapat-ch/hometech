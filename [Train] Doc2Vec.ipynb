{
 "cells": [
  {
   "cell_type": "code",
   "execution_count": 2,
   "metadata": {},
   "outputs": [],
   "source": [
    "import pandas as pd\n",
    "import pythainlp\n",
    "from pythainlp.tokenize import word_tokenize"
   ]
  },
  {
   "cell_type": "code",
   "execution_count": 3,
   "metadata": {},
   "outputs": [],
   "source": [
    "df = pd.read_csv(\"./data/project_description.csv\", sep=';')"
   ]
  },
  {
   "cell_type": "code",
   "execution_count": 3,
   "metadata": {},
   "outputs": [],
   "source": [
    "df['description_th'] = df['description_th'].fillna(\"\")\n",
    "#df[\"description_th\"].apply(deepcut.tokenize)"
   ]
  },
  {
   "cell_type": "code",
   "execution_count": 4,
   "metadata": {},
   "outputs": [],
   "source": [
    "stop = [' ','  ','   ']\n",
    "def tokenize(sentence):\n",
    "    words = word_tokenize(sentence)\n",
    "    \n",
    "    words = [word.lower() for word in words if word not in stop ]\n",
    "    return words\n",
    "#tokenize(df.description_th.iloc[0])"
   ]
  },
  {
   "cell_type": "code",
   "execution_count": 5,
   "metadata": {},
   "outputs": [],
   "source": [
    "df[\"words\"] = df['description_th'].apply(tokenize)"
   ]
  },
  {
   "cell_type": "code",
   "execution_count": 6,
   "metadata": {},
   "outputs": [
    {
     "data": {
      "text/plain": [
       "4"
      ]
     },
     "execution_count": 6,
     "metadata": {},
     "output_type": "execute_result"
    }
   ],
   "source": [
    "df['project_id'].loc[0]"
   ]
  },
  {
   "cell_type": "code",
   "execution_count": null,
   "metadata": {},
   "outputs": [],
   "source": [
    "#df.to_csv(\"./clean_data/project_description.csv\",index=False)"
   ]
  },
  {
   "cell_type": "code",
   "execution_count": 4,
   "metadata": {},
   "outputs": [],
   "source": [
    "df = pd.read_csv(\"./clean_data/project_description.csv\")"
   ]
  },
  {
   "cell_type": "code",
   "execution_count": 5,
   "metadata": {},
   "outputs": [],
   "source": [
    "sentences = df['words'].values"
   ]
  },
  {
   "cell_type": "code",
   "execution_count": 6,
   "metadata": {},
   "outputs": [
    {
     "data": {
      "text/plain": [
       "5379"
      ]
     },
     "execution_count": 6,
     "metadata": {},
     "output_type": "execute_result"
    }
   ],
   "source": [
    "len(sentences)"
   ]
  },
  {
   "cell_type": "code",
   "execution_count": 7,
   "metadata": {},
   "outputs": [
    {
     "data": {
      "text/plain": [
       "array([\"['ตั้งอยู่', 'ติด', 'ถนน', 'รังสิต-นครนายก', 'จัดแบ่ง', 'ผัง', 'โครงการ', 'เพื่อให้', 'ผู้อยู่อาศัย', 'ได้', 'สัมผัส', 'กับ', 'ธรรมชาติ', 'ของ', 'น้ำ', 'ด้วย', 'คลอง', 'กว้าง', '10', 'เมตร', 'และ', 'ทะเล', 'สาบ 2', 'แห่ง', 'สิ่งอำนวยความสะดวก', 'ครบ', 'ใกล้', 'สถานศึกษา', 'มหาวิทยาลัย', 'เดินทาง', 'สะดวกสบาย', 'ด้วย', 'ถนน', 'วง', 'แหวน', 'ตะวันออก']\",\n",
       "       \"['Balance', 'Your', 'Life', 'เลือก', 'คุณภาพชีวิต', 'สมดุล', 'ลงตัว', 'ใน', 'แบบ', 'คุณ']\",\n",
       "       '[]', ...,\n",
       "       \"['โฮม', 'ออฟฟิศ', '4.5', 'ชั้น', 'สไตล์', 'Loft', 'ดีไซน์', 'สุด', 'ล้ำ', 'ตอบ', 'โจทย์', 'การใช้งาน', 'ได้', 'เต็มที่', 'ทุก', 'ตารางเมตร', 'ด้วย', 'ทำเล', 'ติด', 'ถนน', 'เกษตร-นวมินทร์', 'ถือเป็น', 'ว่า', 'ทำเล', 'ดี', 'ที่สุด', 'อีก', 'ทำเล', 'หนึ่ง', 'เพียง', '48', 'ยู', 'นิ', 'ต', 'โครงการ', 'ใหม่', 'ล่าสุด', 'จาก', 'เนอ', 'วา', 'นา', 'ต่อ', 'เนื่องจาก', '@', 'Work', 'เกษตร-นวมินทร์', 'ที่', 'เป็นต้นแบบ', 'ความสำเร็จ', 'ของ', '@', 'Work', 'และ', 'ผู้อยู่อาศัย', 'ที่จอดรถ', 'ทั้ง', 'โครงการ', '176', 'คัน', 'มั่นใจ', 'ด้วย', 'กล้อง', 'CCTV', 'รอบ', 'โครงการ', 'ระบบ', 'รักษา', 'ความปลอดภัย', '24', 'ชม.', 'และ', 'เข้า', '-', 'ออก', 'ด้วย', 'ระบบ', 'Key', 'Card', 'ราคา', 'เริ่ม', '15', '-', '30', 'ล้าน']\",\n",
       "       \"['ทา', 'วน', '์', 'โฮม', 'โครงการ', 'ใหม่', 'ที่', 'เป็นได้', 'มากกว่า', 'บ้านเดี่ยว', 'บน', 'ทำเล', 'ศักยภาพ', 'ที่', 'ดี', 'ที่สุด', 'ติด', 'ถ.', 'กรุง', 'เทพ', 'กรีฑา', 'ตัด', 'ใหม่', 'เชื่อมต่อ', 'ถนนสายหลัก', '7', 'สาย', 'โซน', 'กรุงเทพฯ', '-', 'ตะวันออก', 'เพียง', '10', 'นาที', 'ถึง', 'ทางด่วน', '15', 'นาที', 'ถึง', 'ใจกลาง', 'พระราม', '9']\",\n",
       "       \"['จาก', 'แรงบันดาลใจ', 'ภูมิสถาปัตยกรรม', 'ทาง', 'ตอน', 'ใต้', 'ของ', 'ฝรั่งเศส', 'ผสม', 'กับ', 'โมเดิร์น', 'ดีไซน์', 'ที่', 'เรียบง่าย', 'มี', 'สไตล์', 'Chambery', 'Condo', 'จึง', 'เป็น', 'นิยาม', 'การ', 'ใช้ชีวิต', 'บท', 'ใหม่', 'ที่', 'เรียบ', 'หรู', 'เข้าถึง', 'ง่าย', 'เหมาะกับ', 'การ', 'ใช้ชีวิต', 'อย่าง', 'คนรุ่นใหม่', 'ที่', 'มี', 'สไตล์', 'เป็น', 'ของ', 'ตัวเอง', 'แบบ', 'คุณ', 'ทำเล', 'ศักยภาพ', 'ที่', 'เต็มไปด้วย', 'ความ', 'สะดวกสบาย', 'และ', 'มีชีวิตชีวา']\"],\n",
       "      dtype=object)"
      ]
     },
     "execution_count": 7,
     "metadata": {},
     "output_type": "execute_result"
    }
   ],
   "source": [
    "sentences"
   ]
  },
  {
   "cell_type": "code",
   "execution_count": 9,
   "metadata": {},
   "outputs": [],
   "source": [
    "from gensim.models.doc2vec import Doc2Vec, TaggedDocument"
   ]
  },
  {
   "cell_type": "code",
   "execution_count": 10,
   "metadata": {},
   "outputs": [],
   "source": [
    "documents = [TaggedDocument(doc, [i]) for i, doc in enumerate(sentences)]\n",
    "model = Doc2Vec(documents, vector_size=300, window=5, min_count=1, workers=4,epochs=20)"
   ]
  },
  {
   "cell_type": "code",
   "execution_count": 11,
   "metadata": {},
   "outputs": [
    {
     "name": "stderr",
     "output_type": "stream",
     "text": [
      "/home/users/u5722792744_1/miniconda3/lib/python3.6/site-packages/gensim/matutils.py:737: FutureWarning: Conversion of the second argument of issubdtype from `int` to `np.signedinteger` is deprecated. In future, it will be treated as `np.int64 == np.dtype(int).type`.\n",
      "  if np.issubdtype(vec.dtype, np.int):\n"
     ]
    },
    {
     "data": {
      "text/plain": [
       "[(3931, 0.7672604918479919),\n",
       " (3285, 0.7576208114624023),\n",
       " (3129, 0.7503659725189209),\n",
       " (1198, 0.7497131824493408),\n",
       " (397, 0.7470054626464844),\n",
       " (101, 0.7418230175971985),\n",
       " (4107, 0.7402052283287048),\n",
       " (3498, 0.7360547780990601),\n",
       " (5078, 0.7333695888519287),\n",
       " (1437, 0.7279443740844727)]"
      ]
     },
     "execution_count": 11,
     "metadata": {},
     "output_type": "execute_result"
    }
   ],
   "source": [
    "model.docvecs.most_similar(5)"
   ]
  },
  {
   "cell_type": "code",
   "execution_count": 32,
   "metadata": {},
   "outputs": [],
   "source": [
    "project_idx = df.set_index(\"project_id\").drop(columns=['description_th','words'])\n",
    "docvec = pd.DataFrame(model.docvecs.vectors_docs)\n",
    "docvec_idx = pd.concat((project_idx.reset_index(),docvec),axis=1).set_index(\"project_id\")"
   ]
  },
  {
   "cell_type": "code",
   "execution_count": 33,
   "metadata": {},
   "outputs": [],
   "source": [
    "docvec_idx.to_csv(\"./clean_data/doc2vec.csv\")"
   ]
  },
  {
   "cell_type": "markdown",
   "metadata": {},
   "source": [
    "## Check the result"
   ]
  },
  {
   "cell_type": "code",
   "execution_count": null,
   "metadata": {},
   "outputs": [],
   "source": [
    "userLog = pd.read_csv(\"./data/userLog_201801_201802_for_participants.csv\",sep=';')\n",
    "testingUsers = userLog[userLog['project_id']==45]['userCode'].unique()\n"
   ]
  },
  {
   "cell_type": "code",
   "execution_count": null,
   "metadata": {},
   "outputs": [],
   "source": [
    "answerList = [6855,4313,4878,4312,9160,5019,8681,3719,4308,4458]\n",
    "score = []\n",
    "for user in testingUsers:\n",
    "    \n",
    "    projs = userLog[userLog['userCode']==user]['project_id']\n",
    "    if any([a in projs for a in answerList]): score.append(1)\n",
    "    else: score.append(0)\n",
    "    \n",
    "    "
   ]
  },
  {
   "cell_type": "code",
   "execution_count": null,
   "metadata": {},
   "outputs": [],
   "source": [
    "# Create matrix of vectors\n",
    "model.docvecs.vectors_docs.shape"
   ]
  },
  {
   "cell_type": "code",
   "execution_count": null,
   "metadata": {},
   "outputs": [],
   "source": [
    "df.shape"
   ]
  },
  {
   "cell_type": "code",
   "execution_count": null,
   "metadata": {},
   "outputs": [],
   "source": [
    "len(documents)"
   ]
  },
  {
   "cell_type": "code",
   "execution_count": null,
   "metadata": {},
   "outputs": [],
   "source": [
    "sum(score)/len(score)"
   ]
  },
  {
   "cell_type": "code",
   "execution_count": null,
   "metadata": {},
   "outputs": [],
   "source": []
  }
 ],
 "metadata": {
  "kernelspec": {
   "display_name": "Python 3",
   "language": "python",
   "name": "python3"
  },
  "language_info": {
   "codemirror_mode": {
    "name": "ipython",
    "version": 3
   },
   "file_extension": ".py",
   "mimetype": "text/x-python",
   "name": "python",
   "nbconvert_exporter": "python",
   "pygments_lexer": "ipython3",
   "version": "3.6.5"
  }
 },
 "nbformat": 4,
 "nbformat_minor": 2
}
